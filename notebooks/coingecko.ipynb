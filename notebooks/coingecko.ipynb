{
 "cells": [
  {
   "cell_type": "code",
   "execution_count": 1,
   "metadata": {},
   "outputs": [],
   "source": [
    "import requests\n",
    "import pandas as pd\n",
    "from datetime import datetime"
   ]
  },
  {
   "cell_type": "code",
   "execution_count": 6,
   "metadata": {},
   "outputs": [
    {
     "name": "stdout",
     "output_type": "stream",
     "text": [
      "📡 Abrufen von Kursdaten für Solana...\n",
      "✅ Erfolgreich abgerufen: Solana\n",
      "📡 Abrufen von Kursdaten für Avalanche...\n",
      "✅ Erfolgreich abgerufen: Avalanche\n",
      "📡 Abrufen von Kursdaten für Polkadot...\n",
      "✅ Erfolgreich abgerufen: Polkadot\n",
      "📡 Abrufen von Kursdaten für Near Protocol...\n",
      "✅ Erfolgreich abgerufen: Near Protocol\n",
      "📡 Abrufen von Kursdaten für Polygon...\n",
      "✅ Erfolgreich abgerufen: Polygon\n",
      "📡 Abrufen von Kursdaten für XRP...\n",
      "✅ Erfolgreich abgerufen: XRP\n",
      "📡 Abrufen von Kursdaten für Cardano...\n",
      "✅ Erfolgreich abgerufen: Cardano\n",
      "✅ Kursdaten für die letzten 90 Tage gespeichert: crypto_prices.csv\n"
     ]
    }
   ],
   "source": [
    "import requests\n",
    "import pandas as pd\n",
    "import time\n",
    "\n",
    "# ✅ Korrekte CoinGecko-IDs für die gewünschten Kryptowährungen\n",
    "CRYPTO_LIST = {\n",
    "    \"Solana\": \"solana\",\n",
    "    \"Avalanche\": \"avalanche-2\",\n",
    "    \"Polkadot\": \"polkadot\",\n",
    "    \"Near Protocol\": \"near\",\n",
    "    \"Polygon\": \"matic-network\",\n",
    "    \"XRP\": \"ripple\",\n",
    "    \"Cardano\": \"cardano\"\n",
    "}\n",
    "\n",
    "# 🕒 Zeitraum für die letzten 90 Tage\n",
    "DAYS = 90\n",
    "\n",
    "# 📌 DataFrame zur Speicherung der Kursdaten\n",
    "all_prices = []\n",
    "\n",
    "# 📌 API-Abfrage für jede Kryptowährung mit besserem Rate-Limit-Handling\n",
    "for crypto_name, crypto_id in CRYPTO_LIST.items():\n",
    "    print(f\"📡 Abrufen von Kursdaten für {crypto_name}...\")\n",
    "\n",
    "    url = f\"https://api.coingecko.com/api/v3/coins/{crypto_id}/market_chart?vs_currency=usd&days={DAYS}\"\n",
    "    response = requests.get(url)\n",
    "\n",
    "    if response.status_code == 200:\n",
    "        data = response.json()\n",
    "        prices = data[\"prices\"]  # Liste von [timestamp, price]\n",
    "\n",
    "        for price_data in prices:\n",
    "            all_prices.append({\n",
    "                \"date\": pd.to_datetime(price_data[0], unit=\"ms\").date(),\n",
    "                \"crypto\": crypto_name,\n",
    "                \"price\": price_data[1]\n",
    "            })\n",
    "\n",
    "        print(f\"✅ Erfolgreich abgerufen: {crypto_name}\")\n",
    "\n",
    "    elif response.status_code == 429:\n",
    "        print(f\"⚠️ API-Limit erreicht für {crypto_name}. Warte 60 Sekunden...\")\n",
    "        time.sleep(60)  # ⏳ Wartezeit für Rate-Limit\n",
    "        continue  # Überspringe und versuche später\n",
    "\n",
    "    else:\n",
    "        print(f\"⚠️ Fehler beim Abrufen der API für {crypto_name}: {response.status_code}\")\n",
    "\n",
    "    # ⏳ Standardpause von 10 Sekunden zwischen den Requests\n",
    "    time.sleep(10)\n",
    "\n",
    "# 📌 DataFrame erstellen & speichern\n",
    "df_prices = pd.DataFrame(all_prices)\n",
    "\n",
    "# ✅ Daten als CSV speichern\n",
    "df_prices.to_csv(\"crypto_prices.csv\", sep=\"|\", encoding=\"utf-8-sig\", index=False)\n",
    "\n",
    "print(\"✅ Kursdaten für die letzten 90 Tage gespeichert: crypto_prices.csv\")\n"
   ]
  },
  {
   "cell_type": "code",
   "execution_count": null,
   "metadata": {},
   "outputs": [],
   "source": [
    "import gdown\n",
    "\n",
    "drive_folder_id = \"YOUR_GOOGLE_DRIVE_FOLDER_ID\"  # Ersetze mit deiner ID\n",
    "upload_path = f\"https://drive.google.com/drive/folders/{drive_folder_id}\"\n",
    "\n",
    "gdown.upload(file_path, upload_path, quiet=False)\n",
    "print(f\"✅ Datei wurde in Google Drive hochgeladen: {upload_path}\")\n"
   ]
  }
 ],
 "metadata": {
  "kernelspec": {
   "display_name": "dennis",
   "language": "python",
   "name": "python3"
  },
  "language_info": {
   "codemirror_mode": {
    "name": "ipython",
    "version": 3
   },
   "file_extension": ".py",
   "mimetype": "text/x-python",
   "name": "python",
   "nbconvert_exporter": "python",
   "pygments_lexer": "ipython3",
   "version": "3.10.16"
  }
 },
 "nbformat": 4,
 "nbformat_minor": 2
}
