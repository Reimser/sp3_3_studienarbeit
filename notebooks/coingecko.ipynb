{
 "cells": [
  {
   "cell_type": "code",
   "execution_count": 2,
   "metadata": {},
   "outputs": [],
   "source": [
    "import requests\n",
    "import pandas as pd\n",
    "from datetime import datetime"
   ]
  },
  {
   "cell_type": "code",
   "execution_count": 3,
   "metadata": {},
   "outputs": [
    {
     "name": "stdout",
     "output_type": "stream",
     "text": [
      "📡 Abrufen von Kursdaten für Solana...\n",
      "✅ Erfolgreich abgerufen: Solana\n",
      "📡 Abrufen von Kursdaten für Avalanche...\n",
      "✅ Erfolgreich abgerufen: Avalanche\n",
      "📡 Abrufen von Kursdaten für Polkadot...\n",
      "✅ Erfolgreich abgerufen: Polkadot\n",
      "📡 Abrufen von Kursdaten für Near Protocol...\n",
      "✅ Erfolgreich abgerufen: Near Protocol\n",
      "📡 Abrufen von Kursdaten für Polygon...\n",
      "✅ Erfolgreich abgerufen: Polygon\n",
      "📡 Abrufen von Kursdaten für XRP...\n",
      "✅ Erfolgreich abgerufen: XRP\n",
      "📡 Abrufen von Kursdaten für Cardano...\n",
      "✅ Erfolgreich abgerufen: Cardano\n",
      "✅ Kursdaten für die letzten 90 Tage gespeichert: G:/Meine Ablage/reddit/crypto_prices.csv\n"
     ]
    }
   ],
   "source": [
    "import requests\n",
    "import pandas as pd\n",
    "import time\n",
    "import os\n",
    "\n",
    "# ✅ Korrekte CoinGecko-IDs für die gewünschten Kryptowährungen\n",
    "CRYPTO_LIST = {\n",
    "    \"Solana\": \"solana\",\n",
    "    \"Avalanche\": \"avalanche-2\",\n",
    "    \"Polkadot\": \"polkadot\",\n",
    "    \"Near Protocol\": \"near\",\n",
    "    \"Polygon\": \"matic-network\",\n",
    "    \"XRP\": \"ripple\",\n",
    "    \"Cardano\": \"cardano\"\n",
    "}\n",
    "\n",
    "# 🕒 Zeitraum für die letzten 90 Tage\n",
    "DAYS = 90\n",
    "\n",
    "# 📌 Lokaler Speicherpfad (Google Drive Sync-Ordner)\n",
    "DRIVE_PATH = \"G:/Meine Ablage/reddit/\"\n",
    "OUTPUT_FILE = os.path.join(DRIVE_PATH, \"crypto_prices.csv\")\n",
    "\n",
    "# 📌 DataFrame zur Speicherung der Kursdaten\n",
    "all_prices = []\n",
    "\n",
    "# 📌 API-Abfrage für jede Kryptowährung mit besserem Rate-Limit-Handling\n",
    "for crypto_name, crypto_id in CRYPTO_LIST.items():\n",
    "    print(f\"📡 Abrufen von Kursdaten für {crypto_name}...\")\n",
    "\n",
    "    url = f\"https://api.coingecko.com/api/v3/coins/{crypto_id}/market_chart?vs_currency=usd&days={DAYS}\"\n",
    "    response = requests.get(url)\n",
    "\n",
    "    if response.status_code == 200:\n",
    "        data = response.json()\n",
    "        prices = data[\"prices\"]  # Liste von [timestamp, price]\n",
    "\n",
    "        for price_data in prices:\n",
    "            all_prices.append({\n",
    "                \"date\": pd.to_datetime(price_data[0], unit=\"ms\").date(),\n",
    "                \"crypto\": crypto_name,\n",
    "                \"price\": price_data[1]\n",
    "            })\n",
    "\n",
    "        print(f\"✅ Erfolgreich abgerufen: {crypto_name}\")\n",
    "\n",
    "    elif response.status_code == 429:\n",
    "        print(f\"⚠️ API-Limit erreicht für {crypto_name}. Warte 60 Sekunden...\")\n",
    "        time.sleep(60)  # ⏳ Wartezeit für Rate-Limit\n",
    "        continue  # Überspringe und versuche später\n",
    "\n",
    "    else:\n",
    "        print(f\"⚠️ Fehler beim Abrufen der API für {crypto_name}: {response.status_code}\")\n",
    "\n",
    "    # ⏳ Standardpause von 10 Sekunden zwischen den Requests\n",
    "    time.sleep(10)\n",
    "\n",
    "# 📌 DataFrame erstellen & speichern\n",
    "df_prices = pd.DataFrame(all_prices)\n",
    "\n",
    "# ✅ Daten in Google Drive speichern\n",
    "df_prices.to_csv(OUTPUT_FILE, sep=\"|\", encoding=\"utf-8-sig\", index=False)\n",
    "\n",
    "print(f\"✅ Kursdaten für die letzten 90 Tage gespeichert: {OUTPUT_FILE}\")\n"
   ]
  }
 ],
 "metadata": {
  "kernelspec": {
   "display_name": "dennis",
   "language": "python",
   "name": "python3"
  },
  "language_info": {
   "codemirror_mode": {
    "name": "ipython",
    "version": 3
   },
   "file_extension": ".py",
   "mimetype": "text/x-python",
   "name": "python",
   "nbconvert_exporter": "python",
   "pygments_lexer": "ipython3",
   "version": "3.10.16"
  }
 },
 "nbformat": 4,
 "nbformat_minor": 2
}
