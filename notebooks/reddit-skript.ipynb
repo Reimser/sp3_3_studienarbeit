{
 "cells": [
  {
   "cell_type": "markdown",
   "metadata": {},
   "source": [
    "# Crypto_Scraper"
   ]
  },
  {
   "cell_type": "markdown",
   "metadata": {},
   "source": [
    "## Import "
   ]
  },
  {
   "cell_type": "code",
   "execution_count": 1,
   "metadata": {},
   "outputs": [],
   "source": [
    "import praw\n",
    "import pandas as pd\n",
    "from datetime import datetime\n",
    "import os\n",
    "import psaw as ps\n",
    "from dotenv import load_dotenv\n",
    "import torch\n",
    "from transformers import AutoTokenizer, AutoModelForSequenceClassification\n",
    "import torch.nn.functional as F"
   ]
  },
  {
   "cell_type": "code",
   "execution_count": 2,
   "metadata": {},
   "outputs": [
    {
     "name": "stdout",
     "output_type": "stream",
     "text": [
      ".env geladen? True\n"
     ]
    }
   ],
   "source": [
    "# Lade die .env-Datei\n",
    "dotenv_loaded = load_dotenv(\"zugang_reddit.env\")  # Falls die Datei anders heißt, anpassen\n",
    "# Prüfe, ob die Datei geladen wurde\n",
    "print(f\".env geladen? {dotenv_loaded}\")\n"
   ]
  },
  {
   "cell_type": "code",
   "execution_count": 3,
   "metadata": {},
   "outputs": [
    {
     "name": "stdout",
     "output_type": "stream",
     "text": [
      "Reddit API erfolgreich verbunden!\n"
     ]
    }
   ],
   "source": [
    "# Verbuindung zur Pushshift-API\n",
    "reddit = praw.Reddit(\n",
    "    client_id=os.getenv(\"CLIENT_ID\"),\n",
    "    client_secret=os.getenv(\"CLIENT_SECRET\"),\n",
    "    user_agent=os.getenv(\"USER_AGENT\")\n",
    ")\n",
    "\n",
    "print(\"Reddit API erfolgreich verbunden!\")\n"
   ]
  },
  {
   "cell_type": "code",
   "execution_count": 4,
   "metadata": {},
   "outputs": [
    {
     "name": "stdout",
     "output_type": "stream",
     "text": [
      "Title: Monthly Optimists Discussion - February 2025, Score: 10\n",
      "Title: Daily Crypto Discussion - February 2, 2025 (GMT+0), Score: 22\n",
      "Title: Justin Bieber Was Spotted Looking Like He Held Ethereum Since The Merge, Score: 175\n",
      "Title: The Most Bullish Bullrun Ever, Score: 128\n",
      "Title: The Maga backlash against Trump’s crypto grab: ‘This is bad, and looks bad’, Score: 2872\n"
     ]
    }
   ],
   "source": [
    "# Test der Verbindung\n",
    "try:\n",
    "    subreddit = reddit.subreddit(\"CryptoCurrency\")\n",
    "    for post in subreddit.hot(limit=5):\n",
    "        print(f\"Title: {post.title}, Score: {post.score}\")\n",
    "except Exception as e:\n",
    "    print(f\"Fehler beim Abrufen der Subreddit-Daten: {e}\")\n"
   ]
  },
  {
   "cell_type": "markdown",
   "metadata": {},
   "source": [
    "## Liste der Cryptos"
   ]
  },
  {
   "cell_type": "code",
   "execution_count": 5,
   "metadata": {},
   "outputs": [],
   "source": [
    "# Die Crypto-Liste\n",
    "cryptos = [\n",
    "    (\"Cardano\", \"ADA\"),\n",
    "    (\"Solana\", \"SOL\"),\n",
    "    (\"Binance Coin\", \"BNB\"),\n",
    "    (\"XRP\", \"XRP\"),\n",
    "    (\"Polkadot\", \"DOT\"),\n",
    "    (\"Dogecoin\", \"DOGE\")\n",
    "]\n"
   ]
  },
  {
   "cell_type": "code",
   "execution_count": 6,
   "metadata": {},
   "outputs": [],
   "source": [
    "# Die Subreddit Liste\n",
    "subreddits = [\n",
    "    \"CryptoCurrency\",  # Allgemeine Diskussionen über Kryptowährungen\n",
    "    \"CryptoMarkets\",   # Diskussionen über den Kryptomarkt und Preisbewegungen\n",
    "    \"CryptoTrading\",   # Fokus auf Trading-Strategien und Analysen\n",
    "    \"Altcoin\",         # Diskussionen über Altcoins (alle Kryptowährungen außer Bitcoin)\n",
    "    \"DeFi\",            # Decentralized Finance (DeFi) und Projekte\n",
    "    \"BitcoinBeginners\",# Für Anfänger in der Krypto-Welt\n",
    "    \"cryptotechnology\", # Fokus auf die zugrunde liegende Blockchain-Technologie\n",
    "    \"cryptocurrencies\", # Allgemeine Diskussionen über Kryptowährungen\n",
    "    \"Satoshistreetsbets\", # Krypto-Wetten und Spekulationen\n",
    "    \"Binance\"        # Diskussionen über die Binance-Plattform  \n",
    "]"
   ]
  },
  {
   "cell_type": "markdown",
   "metadata": {},
   "source": [
    "## Scrape"
   ]
  },
  {
   "cell_type": "code",
   "execution_count": 7,
   "metadata": {},
   "outputs": [
    {
     "name": "stdout",
     "output_type": "stream",
     "text": [
      "Starte den wöchentlichen Scrape...\n",
      "Suche Posts zu Cardano (ADA) in r/CryptoCurrency...\n",
      "Gefunden in r/CryptoCurrency: What's the reason crypto community members tend to worship certain indivudals? (Suchbegriff: Cardano)\n",
      "Gefunden in r/CryptoCurrency: Cardano Plomin Hard Fork Goes Live Bringing Full Decentralized Governance to ADA (Suchbegriff: Cardano)\n",
      "Gefunden in r/CryptoCurrency: Cardano’s Plomin Hard Fork Goes Live, Ushering in On-Chain Governance (Suchbegriff: Cardano)\n",
      "Gefunden in r/CryptoCurrency: Cardano Set to Achieve Full Decentralized Governance with Wednesday’s Plomin Hard Fork (Suchbegriff: Cardano)\n",
      "Gefunden in r/CryptoCurrency: Understanding the \"inverse r/cryptocurrency\" trading strategy. Is this sub consistently wrong? How it works, how to exploit it, and the underlying reason driving it: (Suchbegriff: Cardano)\n",
      "Gefunden in r/CryptoCurrency: Tuttle Capital Seeks SEC Approval for First-Ever Chainlink, Cardano, and Polkadot ETFs (Suchbegriff: Cardano)\n",
      "Gefunden in r/CryptoCurrency: Why are there no solid projects built on top layer 1s like sui and solana? (Suchbegriff: Cardano)\n",
      "Suche Posts zu Cardano (ADA) in r/CryptoMarkets...\n",
      "Gefunden in r/CryptoMarkets: To Hold or Not to Hold: That is the Question (Need some advice) (Suchbegriff: Cardano)\n",
      "Gefunden in r/CryptoMarkets: I want to figure out how people choose their favorite cryptos. (Suchbegriff: Cardano)\n",
      "Gefunden in r/CryptoMarkets: Chainlink vs Cardano. Which would You put 100k into? (Suchbegriff: Cardano)\n",
      "Gefunden in r/CryptoMarkets: Portfolio Advice (Suchbegriff: Cardano)\n",
      "Gefunden in r/CryptoMarkets: 28.01.25 Crypto highlights: (Suchbegriff: Cardano)\n",
      "Gefunden in r/CryptoMarkets: Which cryptos to buy if I plan on holding for 5-10 years? (Suchbegriff: ADA)\n",
      "Gefunden in r/CryptoMarkets: Help me get off Coinbase (Suchbegriff: ADA)\n",
      "Gefunden in r/CryptoMarkets: What’s the use of ADA? (Suchbegriff: ADA)\n",
      "Suche Posts zu Cardano (ADA) in r/CryptoTrading...\n",
      "Suche Posts zu Cardano (ADA) in r/Altcoin...\n",
      "Suche Posts zu Cardano (ADA) in r/DeFi...\n",
      "Suche Posts zu Cardano (ADA) in r/BitcoinBeginners...\n",
      "Suche Posts zu Cardano (ADA) in r/cryptotechnology...\n",
      "Suche Posts zu Cardano (ADA) in r/cryptocurrencies...\n",
      "Suche Posts zu Cardano (ADA) in r/Satoshistreetsbets...\n",
      "Suche Posts zu Cardano (ADA) in r/Binance...\n",
      "Suche Posts zu Solana (SOL) in r/CryptoCurrency...\n",
      "Gefunden in r/CryptoCurrency: Solana perpetuals (Suchbegriff: Solana)\n",
      "Gefunden in r/CryptoCurrency: The Ability to Delay Transactions and Call Them Back? (Suchbegriff: Solana)\n",
      "Gefunden in r/CryptoCurrency: Elastos Secures $20Million Investment from Rollman Management (Suchbegriff: Solana)\n",
      "Gefunden in r/CryptoCurrency: Solana ridesharing app Teleport shuts down, cites lack of market readiness (Suchbegriff: Solana)\n",
      "Gefunden in r/CryptoCurrency: $3.317M in 3 hours on $VVV using Banana Gun (Suchbegriff: Solana)\n",
      "Gefunden in r/CryptoCurrency: What is the Jambo Solana Phone? Please Read As Information Only, There is Still Scam Risk (Suchbegriff: Solana)\n",
      "Gefunden in r/CryptoCurrency: Solana ETF push resumes as Cboe BZX resubmits applications to SEC (Suchbegriff: Solana)\n",
      "Gefunden in r/CryptoCurrency: Wholesome Solana Meme Coin Dev Hacked for $1.2 Million—But Says He Won't Give Up - Decrypt (Suchbegriff: Solana)\n",
      "Gefunden in r/CryptoCurrency: Solana or XLM? (Suchbegriff: Solana)\n",
      "Gefunden in r/CryptoCurrency: Cashing in, best exchange? (Suchbegriff: Solana)\n",
      "Gefunden in r/CryptoCurrency: 21Shares launches Solana Core Staking ETP (CSOL) (Suchbegriff: Solana)\n",
      "Gefunden in r/CryptoCurrency: The half brother of Barack Obama, Malik Obama just launched and rugged a token called \"Obama\" on Solana. (Suchbegriff: Solana)\n",
      "Gefunden in r/CryptoCurrency: Solana Launches Dubai Crypto Economic Zone: What You Need To Know (Suchbegriff: Solana)\n",
      "Gefunden in r/CryptoCurrency: What is this scam that is going around? And how can we prevent it? (Suchbegriff: Solana)\n",
      "Gefunden in r/CryptoCurrency: They call it Deepseek because everyone will be deeply seeking McDonald’s employment. State of the crypto trenches have turned worse with each dip. (Suchbegriff: Solana)\n",
      "Gefunden in r/CryptoCurrency: Gold Maxi Changed His Mind About Crypto After Creating $420 Million Solana Meme Coin - Decrypt (Suchbegriff: Solana)\n",
      "Gefunden in r/CryptoCurrency: Duplicate coins in phantom wallet (Suchbegriff: Solana)\n",
      "Gefunden in r/CryptoCurrency: 7D Yields on liquidity pools legit? (Suchbegriff: Solana)\n",
      "Gefunden in r/CryptoCurrency: Move for Smart Contracts, the next evolutionary step! (Suchbegriff: Solana)\n",
      "Gefunden in r/CryptoCurrency: Solana-based stablecoin supply hits new peak, surpassing $10 billion (Suchbegriff: Solana)\n",
      "Gefunden in r/CryptoCurrency: Uhh, is it \"Altcoin Season\" yet? (Suchbegriff: Solana)\n",
      "Gefunden in r/CryptoCurrency: Why Staking SOL on Centralized Exchanges is Risky and Why Liquid Staking Protocols Are the Future (Suchbegriff: SOL)\n",
      "Gefunden in r/CryptoCurrency: What’s the next crypto hype? NFTs → meme tokens → meme L1- Blockchains? (Suchbegriff: SOL)\n",
      "Gefunden in r/CryptoCurrency: 46 SOL and now I’m S.O.L. 😭 (Suchbegriff: SOL)\n",
      "Gefunden in r/CryptoCurrency: Who calls crypto trade just like fantasy sports? (Suchbegriff: SOL)\n",
      "Suche Posts zu Solana (SOL) in r/CryptoMarkets...\n",
      "Gefunden in r/CryptoMarkets: Will $Vine coin reach $1B market cap? (Suchbegriff: Solana)\n",
      "Gefunden in r/CryptoMarkets: help with raydium using trust wallet to swap solana for musk it meme .Please help ASAP TIA (Suchbegriff: Solana)\n",
      "Gefunden in r/CryptoMarkets: Need help with swapping solana on raydium for musk it meme with trust wallet. TIA 4 any help. I made a post but don't see it. (Suchbegriff: Solana)\n",
      "Gefunden in r/CryptoMarkets: Need help with swapping solana on raydium for musk it meme with trust wallet. TIA 4 any help. I made a post but don't see it. (Suchbegriff: Solana)\n",
      "Gefunden in r/CryptoMarkets: So i swapped some solana for musk it token through my trust wallet on raydium, but got no musk it tokens. Need help ASAP TIA (Suchbegriff: Solana)\n",
      "Gefunden in r/CryptoMarkets: What is APR in Binance? (Suchbegriff: Solana)\n",
      "Gefunden in r/CryptoMarkets: This is why i believe in Aerobud's success in 2025 (Suchbegriff: Solana)\n",
      "Gefunden in r/CryptoMarkets: When to sell my coins? (Suchbegriff: Solana)\n",
      "Gefunden in r/CryptoMarkets: Binance Smart Chain (BSC) vs. Polygon (MATIC) vs. Solana (SOL) – Best Blockchain for a Payment Token? (Suchbegriff: Solana)\n",
      "Gefunden in r/CryptoMarkets: Cashing in, who is the best? (Suchbegriff: Solana)\n",
      "Gefunden in r/CryptoMarkets: Any recommendations for portfolio? (Suchbegriff: Solana)\n",
      "Gefunden in r/CryptoMarkets: Sold my alts. Now alt season shall begin (Suchbegriff: SOL)\n",
      "Gefunden in r/CryptoMarkets: Never too late? (Suchbegriff: SOL)\n",
      "Gefunden in r/CryptoMarkets: 🚨 Beware of the BitsyDex Crypto Scam! 🚨🚨 (Suchbegriff: SOL)\n",
      "Gefunden in r/CryptoMarkets: Will we see SOL over $260? (Suchbegriff: SOL)\n",
      "Gefunden in r/CryptoMarkets: Lending/Borrowing on Ethereum L2s with wrapped SOL as collateral? (Suchbegriff: SOL)\n",
      "Gefunden in r/CryptoMarkets: Is anyone DCAing altcoins to increase their positions before altseason? (Suchbegriff: SOL)\n",
      "Gefunden in r/CryptoMarkets: Market Manipulation in memecoins (Suchbegriff: SOL)\n",
      "Gefunden in r/CryptoMarkets: What are you adding this dip? (Suchbegriff: SOL)\n",
      "Gefunden in r/CryptoMarkets: New money (Suchbegriff: SOL)\n",
      "Gefunden in r/CryptoMarkets: It's so obvious.... but literally no one knows (Suchbegriff: SOL)\n",
      "Gefunden in r/CryptoMarkets: Is the bull run over ? (Suchbegriff: SOL)\n",
      "Suche Posts zu Solana (SOL) in r/CryptoTrading...\n",
      "Suche Posts zu Solana (SOL) in r/Altcoin...\n",
      "Gefunden in r/Altcoin: How I flipped $24 to $2172 on Bitget SEED (Suchbegriff: Solana)\n",
      "Gefunden in r/Altcoin: Shitcoin by Fartcoin Dev (Suchbegriff: SOL)\n",
      "Gefunden in r/Altcoin: $ANARCHY – The Anti-Rug Meme Coin - Fair Launch, Perfect Tokenomics, $700K MC, 55% BURNED - PROOF BELOW (Suchbegriff: SOL)\n",
      "Suche Posts zu Solana (SOL) in r/DeFi...\n",
      "Gefunden in r/DeFi: Remember my Solana post? Here's how $xROKIT is changing the game. (Suchbegriff: Solana)\n",
      "Gefunden in r/DeFi: What are your trusted platforms for Defi? (Suchbegriff: Solana)\n",
      "Gefunden in r/DeFi: Abu Dhabi-backed VC firm invests $5 million in ZKsync-based crypto exchange GRVT (Suchbegriff: Solana)\n",
      "Gefunden in r/DeFi: Is there any good article about Solana ecosystem? (Suchbegriff: Solana)\n",
      "Gefunden in r/DeFi: Uniswap V4 New features !!🦄 (Suchbegriff: SOL)\n",
      "Gefunden in r/DeFi: Why don't CEXs offer more yield options beyond basic staking? (Suchbegriff: SOL)\n",
      "Suche Posts zu Solana (SOL) in r/BitcoinBeginners...\n",
      "Suche Posts zu Solana (SOL) in r/cryptotechnology...\n",
      "Suche Posts zu Solana (SOL) in r/cryptocurrencies...\n",
      "Suche Posts zu Solana (SOL) in r/Satoshistreetsbets...\n",
      "Suche Posts zu Solana (SOL) in r/Binance...\n",
      "Suche Posts zu Binance Coin (BNB) in r/CryptoCurrency...\n",
      "Gefunden in r/CryptoCurrency: In the Past 24 Hours: 181,071 Traders Were Liquidated, Totaling $370.5M in Losses (Suchbegriff: Binance Coin)\n",
      "Suche Posts zu Binance Coin (BNB) in r/CryptoMarkets...\n",
      "Gefunden in r/CryptoMarkets: KuCoin’s $300 million Guilty Plea Exposes Crypto’s Compliance Crisis (Suchbegriff: Binance Coin)\n",
      "Gefunden in r/CryptoMarkets: Stablecoins: The Future of Digital Currency or a Risky Bet? (Suchbegriff: Binance Coin)\n",
      "Gefunden in r/CryptoMarkets: Best network to use (Suchbegriff: BNB)\n",
      "Gefunden in r/CryptoMarkets: Binance order execution difference (Suchbegriff: BNB)\n",
      "Gefunden in r/CryptoMarkets: Will BNB get back to 709 euros? (Suchbegriff: BNB)\n",
      "Suche Posts zu Binance Coin (BNB) in r/CryptoTrading...\n",
      "Suche Posts zu Binance Coin (BNB) in r/Altcoin...\n",
      "Suche Posts zu Binance Coin (BNB) in r/DeFi...\n",
      "Suche Posts zu Binance Coin (BNB) in r/BitcoinBeginners...\n",
      "Gefunden in r/BitcoinBeginners: Sanity check: electrum, change addresses and paper wallet (Suchbegriff: Binance Coin)\n",
      "Suche Posts zu Binance Coin (BNB) in r/cryptotechnology...\n",
      "Suche Posts zu Binance Coin (BNB) in r/cryptocurrencies...\n",
      "Suche Posts zu Binance Coin (BNB) in r/Satoshistreetsbets...\n",
      "Suche Posts zu Binance Coin (BNB) in r/Binance...\n",
      "Suche Posts zu XRP (XRP) in r/CryptoCurrency...\n",
      "Gefunden in r/CryptoCurrency: Eli5 type post (Suchbegriff: XRP)\n",
      "Gefunden in r/CryptoCurrency: There is an 82% chance that an XRP ETF will be approved in 2025 – Polymarket data (Suchbegriff: XRP)\n",
      "Gefunden in r/CryptoCurrency: Build XRP or HBAR? (Suchbegriff: XRP)\n",
      "Gefunden in r/CryptoCurrency: Grayscale files for XRP ETF with NYSE (Suchbegriff: XRP)\n",
      "Gefunden in r/CryptoCurrency: Messari - State of XRP Ledger Q4 2024 (Deep analytics) (Suchbegriff: XRP)\n",
      "Gefunden in r/CryptoCurrency: I sold all of my ALTS at the TOP (December 4th, 2024). Began to DCA ALTs immediately. Here are the results (-40%/$-10000) / and observations I would like to share. (Suchbegriff: XRP)\n",
      "Gefunden in r/CryptoCurrency: Judge Analisa Torres, whose landmark decision that retail XRP sales weren't securities, sentenced a crypto Ponzi scheme promoter to 30 months in prison Thursday for defrauding investors of $8.4 million. (Suchbegriff: XRP)\n",
      "Gefunden in r/CryptoCurrency: STOP Crypto Reserve: XRP's Satoshi (Chris Larsen) already sold 100M$ USD worth of XRP in 2025 (Suchbegriff: XRP)\n",
      "Gefunden in r/CryptoCurrency: Restake XRP for 6 months? (Suchbegriff: XRP)\n",
      "Suche Posts zu XRP (XRP) in r/CryptoMarkets...\n",
      "Gefunden in r/CryptoMarkets: Sell & Rebuy (Suchbegriff: XRP)\n",
      "Gefunden in r/CryptoMarkets: Any other Coins/Projects that will Follow XRP to the Top?? (Suchbegriff: XRP)\n",
      "Gefunden in r/CryptoMarkets: XRP? (Suchbegriff: XRP)\n",
      "Gefunden in r/CryptoMarkets: How is XRP a good coin to make profits if the main purpose is to be a mean for international payments? (Suchbegriff: XRP)\n",
      "Gefunden in r/CryptoMarkets: XRP Price Going to $10,000,000,000,000 Confirmed! (Suchbegriff: XRP)\n",
      "Gefunden in r/CryptoMarkets: Do you hold a coin you don’t like ? (Suchbegriff: XRP)\n",
      "Gefunden in r/CryptoMarkets: How are you ACTUALLY supposed to analyze a good long term hold? (Suchbegriff: XRP)\n",
      "Gefunden in r/CryptoMarkets: next move? (Suchbegriff: XRP)\n",
      "Gefunden in r/CryptoMarkets: I'm in the cult (Suchbegriff: XRP)\n",
      "Gefunden in r/CryptoMarkets: New coins and prediction for 2025 (Suchbegriff: XRP)\n",
      "Gefunden in r/CryptoMarkets: How do people actually make money? (Suchbegriff: XRP)\n",
      "Gefunden in r/CryptoMarkets: I believe we are watching Ripple Labs making an attempt to become the crypto FED. (Suchbegriff: XRP)\n",
      "Gefunden in r/CryptoMarkets: TRUMP is unestabilizing the market (Suchbegriff: XRP)\n",
      "Gefunden in r/CryptoMarkets: Besides BTC, what other Coins should you Buy as a Longterm Asset? (Suchbegriff: XRP)\n",
      "Gefunden in r/CryptoMarkets: Who’s the next batter up on coinbase? (Suchbegriff: XRP)\n",
      "Gefunden in r/CryptoMarkets: XRP (Suchbegriff: XRP)\n",
      "Gefunden in r/CryptoMarkets: Newbie question please help. (Suchbegriff: XRP)\n",
      "Gefunden in r/CryptoMarkets: Did I mess up or am I okay? (Suchbegriff: XRP)\n",
      "Gefunden in r/CryptoMarkets: XRP (Suchbegriff: XRP)\n",
      "Gefunden in r/CryptoMarkets: Bitcoin and XRP Discussion (Future of FinTech) (Suchbegriff: XRP)\n",
      "Gefunden in r/CryptoMarkets: Question about profits? (Suchbegriff: XRP)\n",
      "Suche Posts zu XRP (XRP) in r/CryptoTrading...\n",
      "Suche Posts zu XRP (XRP) in r/Altcoin...\n",
      "Suche Posts zu XRP (XRP) in r/DeFi...\n",
      "Suche Posts zu XRP (XRP) in r/BitcoinBeginners...\n",
      "Suche Posts zu XRP (XRP) in r/cryptotechnology...\n",
      "Gefunden in r/cryptotechnology: Bitcoin and XRP Discussions (Suchbegriff: XRP)\n",
      "Suche Posts zu XRP (XRP) in r/cryptocurrencies...\n",
      "Suche Posts zu XRP (XRP) in r/Satoshistreetsbets...\n",
      "Suche Posts zu XRP (XRP) in r/Binance...\n",
      "Suche Posts zu Polkadot (DOT) in r/CryptoCurrency...\n",
      "Gefunden in r/CryptoCurrency: 21Shares files for Polkadot ETF (Suchbegriff: Polkadot)\n",
      "Suche Posts zu Polkadot (DOT) in r/CryptoMarkets...\n",
      "Gefunden in r/CryptoMarkets: Has anyone heard or interacted with this exchange? (Suchbegriff: DOT)\n",
      "Gefunden in r/CryptoMarkets: Need help to find out about this Crypto website (Suchbegriff: DOT)\n",
      "Gefunden in r/CryptoMarkets: AI is going to kill memecoins (Suchbegriff: DOT)\n",
      "Suche Posts zu Polkadot (DOT) in r/CryptoTrading...\n",
      "Suche Posts zu Polkadot (DOT) in r/Altcoin...\n",
      "Gefunden in r/Altcoin: Discover Analog: The Fundamentals of a Game-Changing Project (Suchbegriff: Polkadot)\n",
      "Suche Posts zu Polkadot (DOT) in r/DeFi...\n",
      "Suche Posts zu Polkadot (DOT) in r/BitcoinBeginners...\n",
      "Suche Posts zu Polkadot (DOT) in r/cryptotechnology...\n",
      "Suche Posts zu Polkadot (DOT) in r/cryptocurrencies...\n",
      "Suche Posts zu Polkadot (DOT) in r/Satoshistreetsbets...\n",
      "Suche Posts zu Polkadot (DOT) in r/Binance...\n",
      "Suche Posts zu Dogecoin (DOGE) in r/CryptoCurrency...\n",
      "Gefunden in r/CryptoCurrency: The Rise of Dogecoin ETFs: A new era for meme coins (Suchbegriff: Dogecoin)\n",
      "Gefunden in r/CryptoCurrency: Grayscale launches dogecoin-focused fund as altcoin adoption picks up pace (Suchbegriff: Dogecoin)\n",
      "Gefunden in r/CryptoCurrency: Bitwise files for Dogecoin ETF as institutional interest in meme coins grows (Suchbegriff: Dogecoin)\n",
      "Gefunden in r/CryptoCurrency: Elon Musk Said To Propose Blockchain Use At DOGE (Suchbegriff: DOGE)\n",
      "Gefunden in r/CryptoCurrency: Perspective (Suchbegriff: DOGE)\n",
      "Suche Posts zu Dogecoin (DOGE) in r/CryptoMarkets...\n",
      "Gefunden in r/CryptoMarkets: Elon Musk’s X Wallet gets Visa support – Impact on digital payments? (Suchbegriff: Dogecoin)\n",
      "Gefunden in r/CryptoMarkets: Trash with lipstick , (Suchbegriff: DOGE)\n",
      "Gefunden in r/CryptoMarkets: A Clear Perspective on Spot Investments in Bitcoin and Altcoins, and Investor Psychology in Market Cycles (Suchbegriff: DOGE)\n",
      "Suche Posts zu Dogecoin (DOGE) in r/CryptoTrading...\n",
      "Suche Posts zu Dogecoin (DOGE) in r/Altcoin...\n",
      "Suche Posts zu Dogecoin (DOGE) in r/DeFi...\n",
      "Suche Posts zu Dogecoin (DOGE) in r/BitcoinBeginners...\n",
      "Suche Posts zu Dogecoin (DOGE) in r/cryptotechnology...\n",
      "Suche Posts zu Dogecoin (DOGE) in r/cryptocurrencies...\n",
      "Gefunden in r/cryptocurrencies: New, looking for a solid ASIC Machine around 500.00, for Dogecoin/LTE thoughts & recommendations please. (Suchbegriff: Dogecoin)\n",
      "Suche Posts zu Dogecoin (DOGE) in r/Satoshistreetsbets...\n",
      "Suche Posts zu Dogecoin (DOGE) in r/Binance...\n",
      "Scrape abgeschlossen: 123 Posts und 4669 Kommentare gefunden.\n",
      "Daten können jetzt in der Pipeline bereinigt werden...\n"
     ]
    }
   ],
   "source": [
    "# Funktion, um Posts und Kommentare zu scrapen\n",
    "def scrape_reddit(start_timestamp, end_timestamp, mode=\"initial\"):\n",
    "    posts = []\n",
    "    comments = []\n",
    "    post_ids = set()  # Set zum Speichern der Post-IDs\n",
    "\n",
    "    for crypto_name, crypto_symbol in cryptos:\n",
    "        for subreddit_name in subreddits:\n",
    "            subreddit = reddit.subreddit(subreddit_name)\n",
    "            print(f\"Suche Posts zu {crypto_name} ({crypto_symbol}) in r/{subreddit_name}...\")\n",
    "\n",
    "            # Suche nach Namen und Kürzel\n",
    "            for search_term in [crypto_name, crypto_symbol]:\n",
    "                for post in subreddit.search(query=search_term, sort=\"new\", limit=None):\n",
    "                    if start_timestamp <= post.created_utc <= end_timestamp and post.id not in post_ids:\n",
    "                        post_ids.add(post.id)\n",
    "                        posts.append({\n",
    "                            'crypto': crypto_name,\n",
    "                            'search_term': search_term,\n",
    "                            'subreddit': subreddit_name,\n",
    "                            'post_id': post.id,\n",
    "                            'title': post.title,\n",
    "                            'author': str(post.author),\n",
    "                            'created_utc': datetime.utcfromtimestamp(post.created_utc).strftime('%Y-%m-%d %H:%M:%S'),\n",
    "                            'score': post.score,\n",
    "                            'num_comments': post.num_comments,\n",
    "                            'selftext': post.selftext\n",
    "                        })\n",
    "                        print(f\"Gefunden in r/{subreddit_name}: {post.title} (Suchbegriff: {search_term})\")\n",
    "\n",
    "                        # Kommentare sammeln\n",
    "                        post.comments.replace_more(limit=0)\n",
    "                        for comment in post.comments.list():\n",
    "                            comments.append({\n",
    "                                'post_id': post.id,\n",
    "                                'comment_id': comment.id,\n",
    "                                'author': str(comment.author),\n",
    "                                'created_utc': datetime.utcfromtimestamp(comment.created_utc).strftime('%Y-%m-%d %H:%M:%S'),\n",
    "                                'score': comment.score,\n",
    "                                'body': comment.body\n",
    "                            })\n",
    "\n",
    "    # In DataFrames umwandeln\n",
    "    df_posts = pd.DataFrame(posts)\n",
    "    df_comments = pd.DataFrame(comments)\n",
    "\n",
    "    # DataFrames zurückgeben\n",
    "    print(f\"Scrape abgeschlossen: {len(df_posts)} Posts und {len(df_comments)} Kommentare gefunden.\")\n",
    "    return df_posts, df_comments\n",
    "\n",
    "# **Wöchentlicher Scrape**\n",
    "now = int(datetime.now().timestamp())  # Aktueller Zeitstempel\n",
    "last_week = now - 7 * 24 * 60 * 60  # 7 Tage zurück\n",
    "print(\"Starte den wöchentlichen Scrape...\")\n",
    "df_posts_weekly, df_comments_weekly = scrape_reddit(last_week, now, mode=\"weekly\")\n",
    "\n",
    "# Beispiel: Lokale Weiterverarbeitung\n",
    "print(\"Daten können jetzt in der Pipeline bereinigt werden...\")"
   ]
  },
  {
   "cell_type": "markdown",
   "metadata": {},
   "source": [
    "## Datenbereinigung "
   ]
  },
  {
   "cell_type": "markdown",
   "metadata": {},
   "source": [
    "Fubktion zur Bereinigung der Daten "
   ]
  },
  {
   "cell_type": "code",
   "execution_count": 8,
   "metadata": {},
   "outputs": [],
   "source": [
    "def clean_data(df_posts, df_comments):\n",
    "    # 1. Duplikate entfernen\n",
    "    df_posts = df_posts.drop_duplicates(subset=[\"post_id\"])\n",
    "    df_comments = df_comments.drop_duplicates(subset=[\"comment_id\"])\n",
    "    \n",
    "    # 2. Fehlende Werte behandeln\n",
    "    df_posts['selftext'] = df_posts['selftext'].fillna('')  # Fehlende Posttexte auffüllen\n",
    "    df_comments['body'] = df_comments['body'].fillna('')  # Fehlende Kommentare auffüllen\n",
    "    \n",
    "    # 3. Zeitstempel konvertieren\n",
    "    df_posts['created_utc'] = pd.to_datetime(df_posts['created_utc'])\n",
    "    df_comments['created_utc'] = pd.to_datetime(df_comments['created_utc'])\n",
    "    \n",
    "    # 4. Filterung nach Qualität (z. B. Spam entfernen)\n",
    "    df_posts = df_posts[df_posts['score'] > 0]  # Posts mit negativem Score entfernen\n",
    "    df_comments = df_comments[df_comments['score'] > 0]  # Kommentare mit negativem Score entfernen\n",
    "    \n",
    "    return df_posts, df_comments\n"
   ]
  },
  {
   "cell_type": "markdown",
   "metadata": {},
   "source": [
    "Funktion zur bereinigung auf die Daten anwenden"
   ]
  },
  {
   "cell_type": "code",
   "execution_count": 9,
   "metadata": {},
   "outputs": [
    {
     "name": "stdout",
     "output_type": "stream",
     "text": [
      "Bereinigte Posts: 60\n",
      "Bereinigte Kommentare: 4120\n"
     ]
    }
   ],
   "source": [
    "# Bereinigen der Daten\n",
    "df_posts_clean, df_comments_clean = clean_data(df_posts_weekly, df_comments_weekly)\n",
    "\n",
    "# Überprüfen, wie viele Einträge übrig sind\n",
    "print(f\"Bereinigte Posts: {len(df_posts_clean)}\")\n",
    "print(f\"Bereinigte Kommentare: {len(df_comments_clean)}\")"
   ]
  },
  {
   "cell_type": "markdown",
   "metadata": {},
   "source": [
    "## Model fuer das Sentiment"
   ]
  },
  {
   "cell_type": "code",
   "execution_count": 10,
   "metadata": {},
   "outputs": [
    {
     "data": {
      "text/html": [
       "<div>\n",
       "<style scoped>\n",
       "    .dataframe tbody tr th:only-of-type {\n",
       "        vertical-align: middle;\n",
       "    }\n",
       "\n",
       "    .dataframe tbody tr th {\n",
       "        vertical-align: top;\n",
       "    }\n",
       "\n",
       "    .dataframe thead th {\n",
       "        text-align: right;\n",
       "    }\n",
       "</style>\n",
       "<table border=\"1\" class=\"dataframe\">\n",
       "  <thead>\n",
       "    <tr style=\"text-align: right;\">\n",
       "      <th></th>\n",
       "      <th>post_id</th>\n",
       "      <th>comment_id</th>\n",
       "      <th>author</th>\n",
       "      <th>created_utc</th>\n",
       "      <th>score</th>\n",
       "      <th>body</th>\n",
       "    </tr>\n",
       "  </thead>\n",
       "  <tbody>\n",
       "    <tr>\n",
       "      <th>0</th>\n",
       "      <td>1if3ko4</td>\n",
       "      <td>macv3h8</td>\n",
       "      <td>Busy-Chemistry7747</td>\n",
       "      <td>2025-02-01 10:39:21</td>\n",
       "      <td>53</td>\n",
       "      <td>Room temperature iq</td>\n",
       "    </tr>\n",
       "    <tr>\n",
       "      <th>1</th>\n",
       "      <td>1if3ko4</td>\n",
       "      <td>macukdp</td>\n",
       "      <td>Maleficent_Sound_919</td>\n",
       "      <td>2025-02-01 10:33:59</td>\n",
       "      <td>22</td>\n",
       "      <td>Cult like worshipping</td>\n",
       "    </tr>\n",
       "    <tr>\n",
       "      <th>2</th>\n",
       "      <td>1if3ko4</td>\n",
       "      <td>macxctn</td>\n",
       "      <td>inShambles3749</td>\n",
       "      <td>2025-02-01 11:01:49</td>\n",
       "      <td>7</td>\n",
       "      <td>Because humans are dumb fucks and tend to go t...</td>\n",
       "    </tr>\n",
       "    <tr>\n",
       "      <th>3</th>\n",
       "      <td>1if3ko4</td>\n",
       "      <td>macvmq8</td>\n",
       "      <td>liquid_at</td>\n",
       "      <td>2025-02-01 10:44:46</td>\n",
       "      <td>7</td>\n",
       "      <td>chicken and egg problem.\\n\\nThe psychological ...</td>\n",
       "    </tr>\n",
       "    <tr>\n",
       "      <th>4</th>\n",
       "      <td>1if3ko4</td>\n",
       "      <td>macwj7f</td>\n",
       "      <td>Bear-Bull-Pig</td>\n",
       "      <td>2025-02-01 10:53:46</td>\n",
       "      <td>6</td>\n",
       "      <td>I think most crypto members are here for the m...</td>\n",
       "    </tr>\n",
       "    <tr>\n",
       "      <th>...</th>\n",
       "      <td>...</td>\n",
       "      <td>...</td>\n",
       "      <td>...</td>\n",
       "      <td>...</td>\n",
       "      <td>...</td>\n",
       "      <td>...</td>\n",
       "    </tr>\n",
       "    <tr>\n",
       "      <th>4661</th>\n",
       "      <td>1ifhr6g</td>\n",
       "      <td>magor0q</td>\n",
       "      <td>kilo6ronen</td>\n",
       "      <td>2025-02-01 23:48:59</td>\n",
       "      <td>1</td>\n",
       "      <td>This sentiment happens literally every single ...</td>\n",
       "    </tr>\n",
       "    <tr>\n",
       "      <th>4662</th>\n",
       "      <td>1ifhr6g</td>\n",
       "      <td>magajon</td>\n",
       "      <td>Emergency_Egg1281</td>\n",
       "      <td>2025-02-01 22:32:00</td>\n",
       "      <td>1</td>\n",
       "      <td>I feel you , I had to vent, I am pissed off no...</td>\n",
       "    </tr>\n",
       "    <tr>\n",
       "      <th>4663</th>\n",
       "      <td>1ifhr6g</td>\n",
       "      <td>magsrkp</td>\n",
       "      <td>Emergency_Egg1281</td>\n",
       "      <td>2025-02-02 00:10:46</td>\n",
       "      <td>1</td>\n",
       "      <td>trump at 19 ,,,,bought it !</td>\n",
       "    </tr>\n",
       "    <tr>\n",
       "      <th>4664</th>\n",
       "      <td>1icsxbw</td>\n",
       "      <td>m9v8qtn</td>\n",
       "      <td>Mrqs2</td>\n",
       "      <td>2025-01-29 18:41:02</td>\n",
       "      <td>3</td>\n",
       "      <td>Honestly at this point I don’t even know what’...</td>\n",
       "    </tr>\n",
       "    <tr>\n",
       "      <th>4668</th>\n",
       "      <td>1icsxbw</td>\n",
       "      <td>m9xaubz</td>\n",
       "      <td>Mrqs2</td>\n",
       "      <td>2025-01-30 00:30:05</td>\n",
       "      <td>1</td>\n",
       "      <td>Why you say by the end? In 2021 it happened be...</td>\n",
       "    </tr>\n",
       "  </tbody>\n",
       "</table>\n",
       "<p>4120 rows × 6 columns</p>\n",
       "</div>"
      ],
      "text/plain": [
       "      post_id comment_id                author         created_utc  score  \\\n",
       "0     1if3ko4    macv3h8    Busy-Chemistry7747 2025-02-01 10:39:21     53   \n",
       "1     1if3ko4    macukdp  Maleficent_Sound_919 2025-02-01 10:33:59     22   \n",
       "2     1if3ko4    macxctn        inShambles3749 2025-02-01 11:01:49      7   \n",
       "3     1if3ko4    macvmq8             liquid_at 2025-02-01 10:44:46      7   \n",
       "4     1if3ko4    macwj7f         Bear-Bull-Pig 2025-02-01 10:53:46      6   \n",
       "...       ...        ...                   ...                 ...    ...   \n",
       "4661  1ifhr6g    magor0q            kilo6ronen 2025-02-01 23:48:59      1   \n",
       "4662  1ifhr6g    magajon     Emergency_Egg1281 2025-02-01 22:32:00      1   \n",
       "4663  1ifhr6g    magsrkp     Emergency_Egg1281 2025-02-02 00:10:46      1   \n",
       "4664  1icsxbw    m9v8qtn                 Mrqs2 2025-01-29 18:41:02      3   \n",
       "4668  1icsxbw    m9xaubz                 Mrqs2 2025-01-30 00:30:05      1   \n",
       "\n",
       "                                                   body  \n",
       "0                                   Room temperature iq  \n",
       "1                                 Cult like worshipping  \n",
       "2     Because humans are dumb fucks and tend to go t...  \n",
       "3     chicken and egg problem.\\n\\nThe psychological ...  \n",
       "4     I think most crypto members are here for the m...  \n",
       "...                                                 ...  \n",
       "4661  This sentiment happens literally every single ...  \n",
       "4662  I feel you , I had to vent, I am pissed off no...  \n",
       "4663                        trump at 19 ,,,,bought it !  \n",
       "4664  Honestly at this point I don’t even know what’...  \n",
       "4668  Why you say by the end? In 2021 it happened be...  \n",
       "\n",
       "[4120 rows x 6 columns]"
      ]
     },
     "execution_count": 10,
     "metadata": {},
     "output_type": "execute_result"
    }
   ],
   "source": [
    "df_comments_clean"
   ]
  },
  {
   "cell_type": "code",
   "execution_count": null,
   "metadata": {},
   "outputs": [
    {
     "data": {
      "application/vnd.jupyter.widget-view+json": {
       "model_id": "034c3fab879746b3b00b5262bd4f923a",
       "version_major": 2,
       "version_minor": 0
      },
      "text/plain": [
       "tokenizer_config.json:   0%|          | 0.00/252 [00:00<?, ?B/s]"
      ]
     },
     "metadata": {},
     "output_type": "display_data"
    },
    {
     "name": "stderr",
     "output_type": "stream",
     "text": [
      "c:\\Users\\hp\\anaconda3\\envs\\dennis\\lib\\site-packages\\huggingface_hub\\file_download.py:140: UserWarning: `huggingface_hub` cache-system uses symlinks by default to efficiently store duplicated files but your machine does not support them in C:\\Users\\hp\\.cache\\huggingface\\hub\\models--ProsusAI--finbert. Caching files will still work but in a degraded version that might require more space on your disk. This warning can be disabled by setting the `HF_HUB_DISABLE_SYMLINKS_WARNING` environment variable. For more details, see https://huggingface.co/docs/huggingface_hub/how-to-cache#limitations.\n",
      "To support symlinks on Windows, you either need to activate Developer Mode or to run Python as an administrator. In order to activate developer mode, see this article: https://docs.microsoft.com/en-us/windows/apps/get-started/enable-your-device-for-development\n",
      "  warnings.warn(message)\n"
     ]
    },
    {
     "data": {
      "application/vnd.jupyter.widget-view+json": {
       "model_id": "e49ca89b89c9437e8ff5ae71a6447ab3",
       "version_major": 2,
       "version_minor": 0
      },
      "text/plain": [
       "config.json:   0%|          | 0.00/758 [00:00<?, ?B/s]"
      ]
     },
     "metadata": {},
     "output_type": "display_data"
    },
    {
     "data": {
      "application/vnd.jupyter.widget-view+json": {
       "model_id": "55ab8511c7d742beaf6061cbaf3193fd",
       "version_major": 2,
       "version_minor": 0
      },
      "text/plain": [
       "vocab.txt:   0%|          | 0.00/232k [00:00<?, ?B/s]"
      ]
     },
     "metadata": {},
     "output_type": "display_data"
    },
    {
     "data": {
      "application/vnd.jupyter.widget-view+json": {
       "model_id": "5548eb6cfc834540b4407f4c7bd6c8e2",
       "version_major": 2,
       "version_minor": 0
      },
      "text/plain": [
       "special_tokens_map.json:   0%|          | 0.00/112 [00:00<?, ?B/s]"
      ]
     },
     "metadata": {},
     "output_type": "display_data"
    },
    {
     "data": {
      "application/vnd.jupyter.widget-view+json": {
       "model_id": "85f350a2f63c4b1d9809e22bcff8da5e",
       "version_major": 2,
       "version_minor": 0
      },
      "text/plain": [
       "pytorch_model.bin:   0%|          | 0.00/438M [00:00<?, ?B/s]"
      ]
     },
     "metadata": {},
     "output_type": "display_data"
    },
    {
     "data": {
      "application/vnd.jupyter.widget-view+json": {
       "model_id": "d3fb328e427d4bd68edc1541caf8724b",
       "version_major": 2,
       "version_minor": 0
      },
      "text/plain": [
       "model.safetensors:   0%|          | 0.00/438M [00:00<?, ?B/s]"
      ]
     },
     "metadata": {},
     "output_type": "display_data"
    },
    {
     "name": "stdout",
     "output_type": "stream",
     "text": [
      "✅ Sentiment-Analyse abgeschlossen! Neue Datei gespeichert: reddit_comments_with_sentiment.csv\n"
     ]
    }
   ],
   "source": [
    "# 🔹 FinBERT-Modell & Tokenizer laden\n",
    "MODEL_NAME = \"ProsusAI/finbert\"\n",
    "tokenizer = AutoTokenizer.from_pretrained(MODEL_NAME)\n",
    "model = AutoModelForSequenceClassification.from_pretrained(MODEL_NAME)\n",
    "\n",
    "df = df_comments_clean\n",
    "\n",
    "# 🔹 Sicherstellen, dass die Spalte \"body\" existiert\n",
    "if \"body\" not in df.columns:\n",
    "    raise ValueError(\"❌ Fehler: Die CSV-Datei enthält keine 'body'-Spalte mit Kommentaren!\")\n",
    "\n",
    "# 🔹 Funktion zur Sentiment-Analyse\n",
    "def analyze_sentiment(text):\n",
    "    if not isinstance(text, str) or text.strip() == \"\":\n",
    "        return \"neutral\", 0.0  # Leere Kommentare sind neutral\n",
    "\n",
    "    inputs = tokenizer(text, return_tensors=\"pt\", truncation=True, max_length=512)\n",
    "    with torch.no_grad():\n",
    "        outputs = model(**inputs)\n",
    "\n",
    "    scores = F.softmax(outputs.logits, dim=1)[0]\n",
    "    labels = [\"negative\", \"neutral\", \"positive\"]\n",
    "    sentiment = labels[torch.argmax(scores).item()]\n",
    "    confidence = scores.max().item()\n",
    "\n",
    "    return sentiment, confidence\n",
    "\n",
    "# 🔹 Sentiment für alle Kommentare berechnen\n",
    "df[\"sentiment\"], df[\"sentiment_confidence\"] = zip(*df[\"body\"].map(analyze_sentiment))\n"
   ]
  },
  {
   "cell_type": "code",
   "execution_count": null,
   "metadata": {},
   "outputs": [],
   "source": [
    "df.sentiment_confidence.sort_values(ascending=False)"
   ]
  },
  {
   "cell_type": "markdown",
   "metadata": {},
   "source": [
    "## Google Drive Export"
   ]
  },
  {
   "cell_type": "markdown",
   "metadata": {},
   "source": [
    "Pfad"
   ]
  },
  {
   "cell_type": "code",
   "execution_count": 14,
   "metadata": {},
   "outputs": [],
   "source": [
    "# Definiere den Speicherpfad zu deinem lokalen Google Drive\n",
    "DRIVE_PATH = \"G:/Meine Ablage/\"\n"
   ]
  },
  {
   "cell_type": "markdown",
   "metadata": {},
   "source": [
    "Export Funktion"
   ]
  },
  {
   "cell_type": "code",
   "execution_count": 15,
   "metadata": {},
   "outputs": [],
   "source": [
    "def append_to_csv(df_new, filename):\n",
    "    file_path = os.path.join(DRIVE_PATH, filename)\n",
    "\n",
    "    try:\n",
    "        # Falls die Datei bereits existiert, lese sie ein und hänge die neuen Daten an\n",
    "        if os.path.exists(file_path):\n",
    "            df_existing = pd.read_csv(file_path, sep=\";\", encoding=\"utf-8-sig\", on_bad_lines=\"skip\")\n",
    "            df_combined = pd.concat([df_existing, df_new], ignore_index=True)\n",
    "        else:\n",
    "            df_combined = df_new  # Falls die Datei nicht existiert, erstelle sie neu\n",
    "\n",
    "        # CSV speichern mit besserer Formatierung für Excel\n",
    "        df_combined.to_csv(\n",
    "            file_path,\n",
    "            index=False,\n",
    "            sep=\";\",  # Semikolon als Trennzeichen für bessere Excel-Kompatibilität\n",
    "            encoding=\"utf-8-sig\",  # Richtige Zeichenkodierung für Excel\n",
    "            lineterminator=\"\\n\"  # Zeilenumbrüche korrekt speichern\n",
    "        )\n",
    "        print(f\"Datei erfolgreich aktualisiert: {file_path}\")\n",
    "\n",
    "    except Exception as e:\n",
    "        print(f\"Fehler beim Speichern der Datei {filename}: {e}\")\n",
    "\n",
    "def export_to_drive(df_posts, df_comments):\n",
    "    try:\n",
    "        # Posts an bestehende Datei anhängen\n",
    "        append_to_csv(df_posts, \"reddit_posts.csv\")\n",
    "        # Kommentare an bestehende Datei anhängen\n",
    "        append_to_csv(df_comments, \"reddit_comments.csv\")\n",
    "\n",
    "    except Exception as e:\n",
    "        print(f\"Fehler beim Export: {e}\")\n"
   ]
  },
  {
   "cell_type": "markdown",
   "metadata": {},
   "source": [
    "Export Funktion anwenden"
   ]
  },
  {
   "cell_type": "code",
   "execution_count": 16,
   "metadata": {},
   "outputs": [
    {
     "name": "stdout",
     "output_type": "stream",
     "text": [
      "Datei erfolgreich aktualisiert: G:/Meine Ablage/reddit_posts.csv\n",
      "Datei erfolgreich aktualisiert: G:/Meine Ablage/reddit_comments.csv\n"
     ]
    }
   ],
   "source": [
    "# Export der bereinigten Daten\n",
    "export_to_drive(df_posts_clean, df_comments_clean)"
   ]
  }
 ],
 "metadata": {
  "kernelspec": {
   "display_name": "dennis",
   "language": "python",
   "name": "python3"
  },
  "language_info": {
   "codemirror_mode": {
    "name": "ipython",
    "version": 3
   },
   "file_extension": ".py",
   "mimetype": "text/x-python",
   "name": "python",
   "nbconvert_exporter": "python",
   "pygments_lexer": "ipython3",
   "version": "3.10.16"
  }
 },
 "nbformat": 4,
 "nbformat_minor": 2
}
