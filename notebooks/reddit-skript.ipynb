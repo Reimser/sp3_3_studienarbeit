{
 "cells": [
  {
   "cell_type": "markdown",
   "metadata": {},
   "source": [
    "# Crypto_Scraper"
   ]
  },
  {
   "cell_type": "markdown",
   "metadata": {},
   "source": [
    "## Import "
   ]
  },
  {
   "cell_type": "code",
   "execution_count": 5,
   "metadata": {},
   "outputs": [],
   "source": [
    "import praw\n",
    "import pandas as pd\n",
    "from datetime import datetime\n",
    "import os\n",
    "import psaw as ps\n",
    "from dotenv import load_dotenv"
   ]
  },
  {
   "cell_type": "code",
   "execution_count": 6,
   "metadata": {},
   "outputs": [
    {
     "name": "stdout",
     "output_type": "stream",
     "text": [
      ".env geladen? True\n"
     ]
    }
   ],
   "source": [
    "# Lade die .env-Datei\n",
    "dotenv_loaded = load_dotenv(\"zugang_reddit.env\")  # Falls die Datei anders heißt, anpassen\n",
    "# Prüfe, ob die Datei geladen wurde\n",
    "print(f\".env geladen? {dotenv_loaded}\")\n"
   ]
  },
  {
   "cell_type": "code",
   "execution_count": 7,
   "metadata": {},
   "outputs": [
    {
     "name": "stdout",
     "output_type": "stream",
     "text": [
      "Reddit API erfolgreich verbunden!\n"
     ]
    }
   ],
   "source": [
    "reddit = praw.Reddit(\n",
    "    client_id=os.getenv(\"CLIENT_ID\"),\n",
    "    client_secret=os.getenv(\"CLIENT_SECRET\"),\n",
    "    user_agent=os.getenv(\"USER_AGENT\")\n",
    ")\n",
    "\n",
    "print(\"Reddit API erfolgreich verbunden!\")\n"
   ]
  },
  {
   "cell_type": "code",
   "execution_count": 8,
   "metadata": {},
   "outputs": [
    {
     "name": "stdout",
     "output_type": "stream",
     "text": [
      "Title: Kraken Pay AMA with Jared Blake, $5000 USDG* in prizes up for grabs!, Score: 21\n",
      "Title: Daily Crypto Discussion - January 29, 2025 (GMT+0), Score: 34\n",
      "Title: Crypto will change you, Score: 727\n",
      "Title: They say humor can be a coping mechanism for trauma., Score: 133\n",
      "Title: Bill Zanker, the man behind Trump's $8B crypto coin, tried to throw thousands of dollar bills from Empire State Building, Score: 217\n"
     ]
    }
   ],
   "source": [
    "try:\n",
    "    subreddit = reddit.subreddit(\"CryptoCurrency\")\n",
    "    for post in subreddit.hot(limit=5):\n",
    "        print(f\"Title: {post.title}, Score: {post.score}\")\n",
    "except Exception as e:\n",
    "    print(f\"Fehler beim Abrufen der Subreddit-Daten: {e}\")\n"
   ]
  },
  {
   "cell_type": "markdown",
   "metadata": {},
   "source": [
    "## Liste der Cryptos"
   ]
  },
  {
   "cell_type": "code",
   "execution_count": 9,
   "metadata": {},
   "outputs": [],
   "source": [
    "cryptos = [\n",
    "    (\"Cardano\", \"ADA\"),\n",
    "    (\"Solana\", \"SOL\"),\n",
    "    (\"Binance Coin\", \"BNB\"),\n",
    "    (\"XRP\", \"XRP\"),\n",
    "    (\"Polkadot\", \"DOT\"),\n",
    "    (\"Dogecoin\", \"DOGE\")\n",
    "]\n"
   ]
  },
  {
   "cell_type": "code",
   "execution_count": 10,
   "metadata": {},
   "outputs": [],
   "source": [
    "subreddits = [\n",
    "    \"CryptoCurrency\",  # Allgemeine Diskussionen über Kryptowährungen\n",
    "    \"CryptoMarkets\",   # Diskussionen über den Kryptomarkt und Preisbewegungen\n",
    "    \"CryptoTrading\",   # Fokus auf Trading-Strategien und Analysen\n",
    "    \"Altcoin\",         # Diskussionen über Altcoins (alle Kryptowährungen außer Bitcoin)\n",
    "    \"DeFi\",            # Decentralized Finance (DeFi) und Projekte\n",
    "    \"BitcoinBeginners\",# Für Anfänger in der Krypto-Welt\n",
    "    \"cryptotechnology\", # Fokus auf die zugrunde liegende Blockchain-Technologie\n",
    "    \"cryptocurrencies\", # Allgemeine Diskussionen über Kryptowährungen\n",
    "    \"Satoshistreetsbets\", # Krypto-Wetten und Spekulationen\n",
    "    \"Binance\"        # Diskussionen über die Binance-Plattform  \n",
    "]"
   ]
  },
  {
   "cell_type": "markdown",
   "metadata": {},
   "source": [
    "## Scrape"
   ]
  },
  {
   "cell_type": "code",
   "execution_count": 11,
   "metadata": {},
   "outputs": [
    {
     "name": "stdout",
     "output_type": "stream",
     "text": [
      "Starte den wöchentlichen Scrape...\n",
      "Suche Posts zu Cardano (ADA) in r/CryptoCurrency...\n",
      "Gefunden in r/CryptoCurrency: Cardano Set to Achieve Full Decentralized Governance with Wednesday’s Plomin Hard Fork (Suchbegriff: Cardano)\n",
      "Gefunden in r/CryptoCurrency: Understanding the \"inverse r/cryptocurrency\" trading strategy. Is this sub consistently wrong? How it works, how to exploit it, and the underlying reason driving it: (Suchbegriff: Cardano)\n",
      "Gefunden in r/CryptoCurrency: Tuttle Capital Seeks SEC Approval for First-Ever Chainlink, Cardano, and Polkadot ETFs (Suchbegriff: Cardano)\n",
      "Gefunden in r/CryptoCurrency: Why are there no solid projects built on top layer 1s like sui and solana? (Suchbegriff: Cardano)\n",
      "Gefunden in r/CryptoCurrency: Replacing ETC (Suchbegriff: Cardano)\n",
      "Gefunden in r/CryptoCurrency: Does market cap determine ATH, or does price? (Suchbegriff: ADA)\n",
      "Suche Posts zu Cardano (ADA) in r/CryptoMarkets...\n",
      "Gefunden in r/CryptoMarkets: Portfolio Advice (Suchbegriff: Cardano)\n",
      "Gefunden in r/CryptoMarkets: 28.01.25 Crypto highlights: (Suchbegriff: Cardano)\n",
      "Gefunden in r/CryptoMarkets: Which cryptos to buy if I plan on holding for 5-10 years? (Suchbegriff: ADA)\n",
      "Gefunden in r/CryptoMarkets: Help me get off Coinbase (Suchbegriff: ADA)\n",
      "Gefunden in r/CryptoMarkets: What’s the use of ADA? (Suchbegriff: ADA)\n",
      "Gefunden in r/CryptoMarkets: Investing £10k -£15k (Suchbegriff: ADA)\n",
      "Gefunden in r/CryptoMarkets: What cryptos would you buy with 100k (Suchbegriff: ADA)\n",
      "Gefunden in r/CryptoMarkets: Should I buy AEVO? (Suchbegriff: ADA)\n",
      "Suche Posts zu Cardano (ADA) in r/CryptoTrading...\n",
      "Suche Posts zu Cardano (ADA) in r/Altcoin...\n",
      "Suche Posts zu Cardano (ADA) in r/DeFi...\n",
      "Suche Posts zu Cardano (ADA) in r/BitcoinBeginners...\n",
      "Suche Posts zu Cardano (ADA) in r/cryptotechnology...\n",
      "Suche Posts zu Cardano (ADA) in r/cryptocurrencies...\n",
      "Gefunden in r/cryptocurrencies: I’m fairly new to crypto currencies! I had some spare change and said “why not buy some?” Think y’all can give me advice on when to sell and not to for the ones I have? (Suchbegriff: Cardano)\n",
      "Suche Posts zu Cardano (ADA) in r/Satoshistreetsbets...\n",
      "Suche Posts zu Cardano (ADA) in r/Binance...\n",
      "Suche Posts zu Solana (SOL) in r/CryptoCurrency...\n",
      "Gefunden in r/CryptoCurrency: Former SEC and CFTC chief economists Jim Overdahl and Craig Lewis have released a detailed paper on Solana, explaining its technical improvements, how it outperforms older blockchains, and its global market potential (Suchbegriff: Solana)\n",
      "Gefunden in r/CryptoCurrency: What is the Jambo Solana Phone? Please Read As Information Only, There is Still Scam Risk (Suchbegriff: Solana)\n",
      "Gefunden in r/CryptoCurrency: Solana ETF push resumes as Cboe BZX resubmits applications to SEC (Suchbegriff: Solana)\n",
      "Gefunden in r/CryptoCurrency: Wholesome Solana Meme Coin Dev Hacked for $1.2 Million—But Says He Won't Give Up - Decrypt (Suchbegriff: Solana)\n",
      "Gefunden in r/CryptoCurrency: Solana or XLM? (Suchbegriff: Solana)\n",
      "Gefunden in r/CryptoCurrency: Cashing in, best exchange? (Suchbegriff: Solana)\n",
      "Gefunden in r/CryptoCurrency: 21Shares launches Solana Core Staking ETP (CSOL) (Suchbegriff: Solana)\n",
      "Gefunden in r/CryptoCurrency: The half brother of Barack Obama, Malik Obama just launched and rugged a token called \"Obama\" on Solana. (Suchbegriff: Solana)\n",
      "Gefunden in r/CryptoCurrency: Solana Launches Dubai Crypto Economic Zone: What You Need To Know (Suchbegriff: Solana)\n",
      "Gefunden in r/CryptoCurrency: What is this scam that is going around? And how can we prevent it? (Suchbegriff: Solana)\n",
      "Gefunden in r/CryptoCurrency: They call it Deepseek because everyone will be deeply seeking McDonald’s employment. State of the crypto trenches have turned worse with each dip. (Suchbegriff: Solana)\n",
      "Gefunden in r/CryptoCurrency: Gold Maxi Changed His Mind About Crypto After Creating $420 Million Solana Meme Coin - Decrypt (Suchbegriff: Solana)\n",
      "Gefunden in r/CryptoCurrency: Duplicate coins in phantom wallet (Suchbegriff: Solana)\n",
      "Gefunden in r/CryptoCurrency: 7D Yields on liquidity pools legit? (Suchbegriff: Solana)\n",
      "Gefunden in r/CryptoCurrency: Move for Smart Contracts, the next evolutionary step! (Suchbegriff: Solana)\n",
      "Gefunden in r/CryptoCurrency: Solana-based stablecoin supply hits new peak, surpassing $10 billion (Suchbegriff: Solana)\n",
      "Gefunden in r/CryptoCurrency: Uhh, is it \"Altcoin Season\" yet? (Suchbegriff: Solana)\n",
      "Gefunden in r/CryptoCurrency: Ethereum (ETH) Reigns Supreme in Tokenized Real-World Assets (RWA) and Stablecoins - The Numbers Don't Lie! (Suchbegriff: Solana)\n",
      "Gefunden in r/CryptoCurrency: Custom 11 Digit Solana Address? (Suchbegriff: Solana)\n",
      "Gefunden in r/CryptoCurrency: Jupiter introduces Jupnet - the omnichain network (Suchbegriff: Solana)\n",
      "Gefunden in r/CryptoCurrency: Grayscale Moves To Launch Spot Litecoin And Solana ETF - Details | (Suchbegriff: Solana)\n",
      "Gefunden in r/CryptoCurrency: Has anyone made their own Meme coin on Solana? If so, can you share what worked and what didn't? (Suchbegriff: Solana)\n",
      "Gefunden in r/CryptoCurrency: Ethereum's Buterin pushes back on Solana hype, warns against 'greed-is-good' mentality (Suchbegriff: Solana)\n",
      "Gefunden in r/CryptoCurrency: Solana Outshines Ethereum, Achieving Over 5 Billion DEX Transactions in the Last 3 Months (Suchbegriff: Solana)\n",
      "Gefunden in r/CryptoCurrency: CME Group clarifies no official decision made on XRP, Solana futures contracts (Suchbegriff: Solana)\n",
      "Gefunden in r/CryptoCurrency: So I've recently started putting in small amounts into crypto, I need some advice. (Suchbegriff: Solana)\n",
      "Gefunden in r/CryptoCurrency: This cycle even the dead are launching Meme coins and the exit liquidity is wondering if it’s real (Suchbegriff: Solana)\n",
      "Gefunden in r/CryptoCurrency: help from someone with A LOT of experience (Suchbegriff: Solana)\n",
      "Gefunden in r/CryptoCurrency: CME staging website suggests XRP, Solana futures will go live on CME on Feb. 10 pending regulatory approval (Suchbegriff: Solana)\n",
      "Gefunden in r/CryptoCurrency: Why Staking SOL on Centralized Exchanges is Risky and Why Liquid Staking Protocols Are the Future (Suchbegriff: SOL)\n",
      "Gefunden in r/CryptoCurrency: What’s the next crypto hype? NFTs → meme tokens → meme L1- Blockchains? (Suchbegriff: SOL)\n",
      "Gefunden in r/CryptoCurrency: 46 SOL and now I’m S.O.L. 😭 (Suchbegriff: SOL)\n",
      "Gefunden in r/CryptoCurrency: Who calls crypto trade just like fantasy sports? (Suchbegriff: SOL)\n",
      "Gefunden in r/CryptoCurrency: have you guys got your kids/younger people to invest? (Suchbegriff: SOL)\n",
      "Gefunden in r/CryptoCurrency: Seeking crypto recommendations with strong potential for the coming months (Suchbegriff: SOL)\n",
      "Gefunden in r/CryptoCurrency: Thoughts on a #MoodengSol Binance Spot Listing? (Suchbegriff: SOL)\n",
      "Gefunden in r/CryptoCurrency: Am I reading this right? (Suchbegriff: SOL)\n",
      "Gefunden in r/CryptoCurrency: I’m a crypto moron (Suchbegriff: SOL)\n",
      "Suche Posts zu Solana (SOL) in r/CryptoMarkets...\n",
      "Gefunden in r/CryptoMarkets: Cashing in, who is the best? (Suchbegriff: Solana)\n",
      "Gefunden in r/CryptoMarkets: Any recommendations for portfolio? (Suchbegriff: Solana)\n",
      "Gefunden in r/CryptoMarkets: Strategic bitcoin reserve (SBR) (Suchbegriff: Solana)\n",
      "Gefunden in r/CryptoMarkets: What cryptocurrencies would you recommend for day trading only? (Suchbegriff: Solana)\n",
      "Gefunden in r/CryptoMarkets: Current Crypto Portfolio (Suchbegriff: Solana)\n",
      "Gefunden in r/CryptoMarkets: Can ETH and Solana rise at the same time? (Suchbegriff: Solana)\n",
      "Gefunden in r/CryptoMarkets: Hello, begginner here (Suchbegriff: Solana)\n",
      "Gefunden in r/CryptoMarkets: Rate my portfolio holdings 1-10. 10 being the best. (Suchbegriff: Solana)\n",
      "Gefunden in r/CryptoMarkets: I Think Cryptos Can Be Evaluated By An Idea From Stock Evaluation Methods. (Suchbegriff: Solana)\n",
      "Gefunden in r/CryptoMarkets: Fail in bridge transaction (Suchbegriff: Solana)\n",
      "Gefunden in r/CryptoMarkets: Solana announcement (Suchbegriff: Solana)\n",
      "Gefunden in r/CryptoMarkets: Has anyone thought what could happen if XRP is used to replace swift system. (Suchbegriff: Solana)\n",
      "Gefunden in r/CryptoMarkets: Discussion - Best trading tools (Suchbegriff: Solana)\n",
      "Gefunden in r/CryptoMarkets: What happens with ETH? (Suchbegriff: Solana)\n",
      "Gefunden in r/CryptoMarkets: Buy SOL? Yay or nay? (Suchbegriff: Solana)\n",
      "Gefunden in r/CryptoMarkets: More information on crypto (Suchbegriff: Solana)\n",
      "Gefunden in r/CryptoMarkets: Advice on btc and altcoins (Suchbegriff: Solana)\n",
      "Gefunden in r/CryptoMarkets: Best way to withdraw from Binance (Suchbegriff: Solana)\n",
      "Gefunden in r/CryptoMarkets: Spreading $30k USD total into these coins (Suchbegriff: Solana)\n",
      "Gefunden in r/CryptoMarkets: need help from someone with A LOT of experience to benefit the both of us (Suchbegriff: Solana)\n",
      "Gefunden in r/CryptoMarkets: Is anyone DCAing altcoins to increase their positions before altseason? (Suchbegriff: SOL)\n",
      "Gefunden in r/CryptoMarkets: Market Manipulation in memecoins (Suchbegriff: SOL)\n",
      "Gefunden in r/CryptoMarkets: What are you adding this dip? (Suchbegriff: SOL)\n",
      "Gefunden in r/CryptoMarkets: New money (Suchbegriff: SOL)\n",
      "Gefunden in r/CryptoMarkets: It's so obvious.... but literally no one knows (Suchbegriff: SOL)\n",
      "Gefunden in r/CryptoMarkets: Is the bull run over ? (Suchbegriff: SOL)\n",
      "Gefunden in r/CryptoMarkets: Investing ~$8k USD (Suchbegriff: SOL)\n",
      "Gefunden in r/CryptoMarkets: New moonshot meme coin $AWR (All Will Retire) x100 potential, released 14 days ago (Suchbegriff: SOL)\n",
      "Gefunden in r/CryptoMarkets: New to crypto (Suchbegriff: SOL)\n",
      "Gefunden in r/CryptoMarkets: How much diversification is smart, for long term investment? (Suchbegriff: SOL)\n",
      "Gefunden in r/CryptoMarkets: Sick to death of meme coins and sick to death of dirty Sol. (Suchbegriff: SOL)\n",
      "Gefunden in r/CryptoMarkets: ndas (Suchbegriff: SOL)\n",
      "Gefunden in r/CryptoMarkets: A huge mistake. (Suchbegriff: SOL)\n",
      "Gefunden in r/CryptoMarkets: For someone who is trying to swing trade, are the legacy coins not a wise choice on investment? (Suchbegriff: SOL)\n",
      "Suche Posts zu Solana (SOL) in r/CryptoTrading...\n",
      "Suche Posts zu Solana (SOL) in r/Altcoin...\n",
      "Gefunden in r/Altcoin: $POOPY day 2, check out the movement! (Suchbegriff: Solana)\n",
      "Gefunden in r/Altcoin: Kendu and its incredible Community - Join the movement (Suchbegriff: SOL)\n",
      "Gefunden in r/Altcoin: New moonshot meme coin $AWR (All Will Retire) x100 potential, released 14 days ago (Suchbegriff: SOL)\n",
      "Gefunden in r/Altcoin: $ANARCHY - Making crypto anarchic again! (Suchbegriff: SOL)\n",
      "Suche Posts zu Solana (SOL) in r/DeFi...\n",
      "Gefunden in r/DeFi: What are your trusted platforms for Defi? (Suchbegriff: Solana)\n",
      "Gefunden in r/DeFi: Abu Dhabi-backed VC firm invests $5 million in ZKsync-based crypto exchange GRVT (Suchbegriff: Solana)\n",
      "Gefunden in r/DeFi: Is there any good article about Solana ecosystem? (Suchbegriff: Solana)\n",
      "Gefunden in r/DeFi: Can’t claim unstake kyjito on kyros.fi (Suchbegriff: Solana)\n",
      "Gefunden in r/DeFi: Dev Offering Free Work to Connect With Token Launchers and Builders (Suchbegriff: Solana)\n",
      "Gefunden in r/DeFi: Why don't CEXs offer more yield options beyond basic staking? (Suchbegriff: SOL)\n",
      "Gefunden in r/DeFi: Anything else like JLP out there? (Suchbegriff: SOL)\n",
      "Suche Posts zu Solana (SOL) in r/BitcoinBeginners...\n",
      "Suche Posts zu Solana (SOL) in r/cryptotechnology...\n",
      "Suche Posts zu Solana (SOL) in r/cryptocurrencies...\n",
      "Gefunden in r/cryptocurrencies: First time trader - here is how my first day went! (Suchbegriff: SOL)\n",
      "Suche Posts zu Solana (SOL) in r/Satoshistreetsbets...\n",
      "Suche Posts zu Solana (SOL) in r/Binance...\n",
      "Suche Posts zu Binance Coin (BNB) in r/CryptoCurrency...\n",
      "Gefunden in r/CryptoCurrency: This is why I believe the Bullrun won’t happen, at least not as expected. (Suchbegriff: Binance Coin)\n",
      "Gefunden in r/CryptoCurrency: Best exchange for crypto trading in Germany (Suchbegriff: Binance Coin)\n",
      "Suche Posts zu Binance Coin (BNB) in r/CryptoMarkets...\n",
      "Gefunden in r/CryptoMarkets: KuCoin’s $300 million Guilty Plea Exposes Crypto’s Compliance Crisis (Suchbegriff: Binance Coin)\n",
      "Gefunden in r/CryptoMarkets: Stablecoins: The Future of Digital Currency or a Risky Bet? (Suchbegriff: Binance Coin)\n",
      "Gefunden in r/CryptoMarkets: Binance order execution difference (Suchbegriff: BNB)\n",
      "Gefunden in r/CryptoMarkets: Will BNB get back to 709 euros? (Suchbegriff: BNB)\n",
      "Gefunden in r/CryptoMarkets: Futures account on Binance confusion (Suchbegriff: BNB)\n",
      "Suche Posts zu Binance Coin (BNB) in r/CryptoTrading...\n",
      "Suche Posts zu Binance Coin (BNB) in r/Altcoin...\n",
      "Suche Posts zu Binance Coin (BNB) in r/DeFi...\n",
      "Gefunden in r/DeFi: Can I supply wstETH on Ethereum and borrow BNB on BNB Smart Chain? (Suchbegriff: BNB)\n",
      "Gefunden in r/DeFi: Is Yuliverse The Future Of Metaverse? (Suchbegriff: BNB)\n",
      "Suche Posts zu Binance Coin (BNB) in r/BitcoinBeginners...\n",
      "Gefunden in r/BitcoinBeginners: Sanity check: electrum, change addresses and paper wallet (Suchbegriff: Binance Coin)\n",
      "Suche Posts zu Binance Coin (BNB) in r/cryptotechnology...\n",
      "Suche Posts zu Binance Coin (BNB) in r/cryptocurrencies...\n",
      "Suche Posts zu Binance Coin (BNB) in r/Satoshistreetsbets...\n",
      "Suche Posts zu Binance Coin (BNB) in r/Binance...\n",
      "Suche Posts zu XRP (XRP) in r/CryptoCurrency...\n",
      "Gefunden in r/CryptoCurrency: I sold all of my ALTS at the TOP (December 4th, 2024). Began to DCA ALTs immediately. Here are the results (-40%/$-10000) / and observations I would like to share. (Suchbegriff: XRP)\n",
      "Gefunden in r/CryptoCurrency: Judge Analisa Torres, whose landmark decision that retail XRP sales weren't securities, sentenced a crypto Ponzi scheme promoter to 30 months in prison Thursday for defrauding investors of $8.4 million. (Suchbegriff: XRP)\n",
      "Gefunden in r/CryptoCurrency: STOP Crypto Reserve: XRP's Satoshi (Chris Larsen) already sold 100M$ USD worth of XRP in 2025 (Suchbegriff: XRP)\n",
      "Gefunden in r/CryptoCurrency: Restake XRP for 6 months? (Suchbegriff: XRP)\n",
      "Gefunden in r/CryptoCurrency: Rational Discourse About XRP (Suchbegriff: XRP)\n",
      "Gefunden in r/CryptoCurrency: Regulatory filings flood in from Grayscale and CoinShares proposing ETFs tracking XRP and Litecoin (Suchbegriff: XRP)\n",
      "Gefunden in r/CryptoCurrency: What cryptocurrencies have the biggest cults? (Suchbegriff: XRP)\n",
      "Gefunden in r/CryptoCurrency: The entire point of a blockchain is the ability for anyone to audit it starting from genesis block. You can’t do that with Ripple. (Suchbegriff: XRP)\n",
      "Gefunden in r/CryptoCurrency: So no one really knows anything about anything what do we do? (Suchbegriff: XRP)\n",
      "Gefunden in r/CryptoCurrency: XRP on Cro…. (Suchbegriff: XRP)\n",
      "Gefunden in r/CryptoCurrency: 2025 feels like 2017 all over again. (Suchbegriff: XRP)\n",
      "Gefunden in r/CryptoCurrency: XRP Wallet Scam Explodes: How Scammers Are Using FOMO to Target Investors (Suchbegriff: XRP)\n",
      "Suche Posts zu XRP (XRP) in r/CryptoMarkets...\n",
      "Gefunden in r/CryptoMarkets: How do people actually make money? (Suchbegriff: XRP)\n",
      "Gefunden in r/CryptoMarkets: I believe we are watching Ripple Labs making an attempt to become the crypto FED. (Suchbegriff: XRP)\n",
      "Gefunden in r/CryptoMarkets: TRUMP is unestabilizing the market (Suchbegriff: XRP)\n",
      "Gefunden in r/CryptoMarkets: Besides BTC, what other Coins should you Buy as a Longterm Asset? (Suchbegriff: XRP)\n",
      "Gefunden in r/CryptoMarkets: Who’s the next batter up on coinbase? (Suchbegriff: XRP)\n",
      "Gefunden in r/CryptoMarkets: XRP (Suchbegriff: XRP)\n",
      "Gefunden in r/CryptoMarkets: Newbie question please help. (Suchbegriff: XRP)\n",
      "Gefunden in r/CryptoMarkets: Did I mess up or am I okay? (Suchbegriff: XRP)\n",
      "Gefunden in r/CryptoMarkets: XRP (Suchbegriff: XRP)\n",
      "Gefunden in r/CryptoMarkets: Bitcoin and XRP Discussion (Future of FinTech) (Suchbegriff: XRP)\n",
      "Gefunden in r/CryptoMarkets: Question about profits? (Suchbegriff: XRP)\n",
      "Gefunden in r/CryptoMarkets: Future of the cryto and trump (Suchbegriff: XRP)\n",
      "Gefunden in r/CryptoMarkets: Not All Sh*tcoins Are Created Equal. There Are Even Worse Ones! XRP Is a Perfect Example. Like the worst Sh*tcoin, XRP falls into a category of its own, which we could call Scam Coins. (Suchbegriff: XRP)\n",
      "Gefunden in r/CryptoMarkets: Onyx coin? (Suchbegriff: XRP)\n",
      "Gefunden in r/CryptoMarkets: Memecoins (Suchbegriff: XRP)\n",
      "Gefunden in r/CryptoMarkets: Genuine Bitcoin Question (Attempt #4) (Suchbegriff: XRP)\n",
      "Gefunden in r/CryptoMarkets: Should I switch some over from BTC (Suchbegriff: XRP)\n",
      "Gefunden in r/CryptoMarkets: BTC & XRP (Suchbegriff: XRP)\n",
      "Gefunden in r/CryptoMarkets: To the community: Please help me understand the Exchange and how to maximize its benefits/potential. Thanks! (Suchbegriff: XRP)\n",
      "Gefunden in r/CryptoMarkets: Help - how to recover XRP sent from Binance through BSC network to XRP network on another exchange. (Suchbegriff: XRP)\n",
      "Gefunden in r/CryptoMarkets: What should I do if I get a big return? (Suchbegriff: XRP)\n",
      "Gefunden in r/CryptoMarkets: Xrp (Suchbegriff: XRP)\n",
      "Gefunden in r/CryptoMarkets: Does anyone have a clue what they're talking about? (Suchbegriff: XRP)\n",
      "Gefunden in r/CryptoMarkets: Tell me about your biggest fuck up so far (Suchbegriff: XRP)\n",
      "Gefunden in r/CryptoMarkets: What is the community’s thoughts on Etherum? (New to this subreddit) (Suchbegriff: XRP)\n",
      "Gefunden in r/CryptoMarkets: I’m the best trader ever. Traded $250 all the way to $0 in a matter of hours. (Suchbegriff: XRP)\n",
      "Gefunden in r/CryptoMarkets: What’s with all the fake Xrp news? (Suchbegriff: XRP)\n",
      "Gefunden in r/CryptoMarkets: Help Recovering Lost Coins from POLONIEX spin out (Suchbegriff: XRP)\n",
      "Gefunden in r/CryptoMarkets: Buying XRP? Yay or Nay (Suchbegriff: XRP)\n",
      "Gefunden in r/CryptoMarkets: Should I Sell ETH for XRP? (Suchbegriff: XRP)\n",
      "Gefunden in r/CryptoMarkets: Should I sell my Dogecoin at a profit and invest into XRP before it’s too late? (Suchbegriff: XRP)\n",
      "Gefunden in r/CryptoMarkets: Weird market right now (Suchbegriff: XRP)\n",
      "Suche Posts zu XRP (XRP) in r/CryptoTrading...\n",
      "Suche Posts zu XRP (XRP) in r/Altcoin...\n",
      "Suche Posts zu XRP (XRP) in r/DeFi...\n",
      "Suche Posts zu XRP (XRP) in r/BitcoinBeginners...\n",
      "Suche Posts zu XRP (XRP) in r/cryptotechnology...\n",
      "Gefunden in r/cryptotechnology: Bitcoin and XRP Discussions (Suchbegriff: XRP)\n",
      "Suche Posts zu XRP (XRP) in r/cryptocurrencies...\n",
      "Gefunden in r/cryptocurrencies: Ripple XRP wallet recommended by creators? (Suchbegriff: XRP)\n",
      "Suche Posts zu XRP (XRP) in r/Satoshistreetsbets...\n",
      "Suche Posts zu XRP (XRP) in r/Binance...\n",
      "Suche Posts zu Polkadot (DOT) in r/CryptoCurrency...\n",
      "Suche Posts zu Polkadot (DOT) in r/CryptoMarkets...\n",
      "Gefunden in r/CryptoMarkets: Need help to find out about this Crypto website (Suchbegriff: DOT)\n",
      "Gefunden in r/CryptoMarkets: AI is going to kill memecoins (Suchbegriff: DOT)\n",
      "Suche Posts zu Polkadot (DOT) in r/CryptoTrading...\n",
      "Suche Posts zu Polkadot (DOT) in r/Altcoin...\n",
      "Gefunden in r/Altcoin: Discover Analog: The Fundamentals of a Game-Changing Project (Suchbegriff: Polkadot)\n",
      "Suche Posts zu Polkadot (DOT) in r/DeFi...\n",
      "Suche Posts zu Polkadot (DOT) in r/BitcoinBeginners...\n",
      "Suche Posts zu Polkadot (DOT) in r/cryptotechnology...\n",
      "Suche Posts zu Polkadot (DOT) in r/cryptocurrencies...\n",
      "Suche Posts zu Polkadot (DOT) in r/Satoshistreetsbets...\n",
      "Suche Posts zu Polkadot (DOT) in r/Binance...\n",
      "Suche Posts zu Dogecoin (DOGE) in r/CryptoCurrency...\n",
      "Gefunden in r/CryptoCurrency: Bitwise files for Dogecoin ETF as institutional interest in meme coins grows (Suchbegriff: Dogecoin)\n",
      "Gefunden in r/CryptoCurrency: Bitwise Moves to Launch Dogecoin ETF While Elon Musk Seems to be Cutting Ties (Suchbegriff: Dogecoin)\n",
      "Gefunden in r/CryptoCurrency: Bitwise Files For World’s First Dogecoin ETF in the US, Will It Succeed? (Suchbegriff: Dogecoin)\n",
      "Gefunden in r/CryptoCurrency: Elon Musk Said To Propose Blockchain Use At DOGE (Suchbegriff: DOGE)\n",
      "Gefunden in r/CryptoCurrency: Perspective (Suchbegriff: DOGE)\n",
      "Gefunden in r/CryptoCurrency: Chinese New Year Buzz: Why Chinese Crypto Investments Could See a Massive Pump (Suchbegriff: DOGE)\n",
      "Gefunden in r/CryptoCurrency: Ripoff or scam? Robinhood won't let me withdrawal money days later (Suchbegriff: DOGE)\n",
      "Suche Posts zu Dogecoin (DOGE) in r/CryptoMarkets...\n",
      "Gefunden in r/CryptoMarkets: Here’s my best Bull case for 2025…. (Suchbegriff: Dogecoin)\n",
      "Gefunden in r/CryptoMarkets: A Clear Perspective on Spot Investments in Bitcoin and Altcoins, and Investor Psychology in Market Cycles (Suchbegriff: DOGE)\n",
      "Gefunden in r/CryptoMarkets: Advice- ALL IN Doge or Fartcoin? (Suchbegriff: DOGE)\n",
      "Gefunden in r/CryptoMarkets: Honest three sentence thoughts (Suchbegriff: DOGE)\n",
      "Gefunden in r/CryptoMarkets: Faith in alts? (Suchbegriff: DOGE)\n",
      "Suche Posts zu Dogecoin (DOGE) in r/CryptoTrading...\n",
      "Suche Posts zu Dogecoin (DOGE) in r/Altcoin...\n",
      "Suche Posts zu Dogecoin (DOGE) in r/DeFi...\n",
      "Suche Posts zu Dogecoin (DOGE) in r/BitcoinBeginners...\n",
      "Suche Posts zu Dogecoin (DOGE) in r/cryptotechnology...\n",
      "Suche Posts zu Dogecoin (DOGE) in r/cryptocurrencies...\n",
      "Gefunden in r/cryptocurrencies: New, looking for a solid ASIC Machine around 500.00, for Dogecoin/LTE thoughts & recommendations please. (Suchbegriff: Dogecoin)\n",
      "Gefunden in r/cryptocurrencies: Bitwise Files For World’s First Dogecoin ETF in the US (Suchbegriff: Dogecoin)\n",
      "Suche Posts zu Dogecoin (DOGE) in r/Satoshistreetsbets...\n",
      "Suche Posts zu Dogecoin (DOGE) in r/Binance...\n",
      "Scrape abgeschlossen: 172 Posts und 6296 Kommentare gefunden.\n",
      "Daten können jetzt in der Pipeline bereinigt werden...\n"
     ]
    }
   ],
   "source": [
    "# Funktion, um Posts und Kommentare zu scrapen\n",
    "def scrape_reddit(start_timestamp, end_timestamp, mode=\"initial\"):\n",
    "    posts = []\n",
    "    comments = []\n",
    "    post_ids = set()  # Set zum Speichern der Post-IDs\n",
    "\n",
    "    for crypto_name, crypto_symbol in cryptos:\n",
    "        for subreddit_name in subreddits:\n",
    "            subreddit = reddit.subreddit(subreddit_name)\n",
    "            print(f\"Suche Posts zu {crypto_name} ({crypto_symbol}) in r/{subreddit_name}...\")\n",
    "\n",
    "            # Suche nach Namen und Kürzel\n",
    "            for search_term in [crypto_name, crypto_symbol]:\n",
    "                for post in subreddit.search(query=search_term, sort=\"new\", limit=None):\n",
    "                    if start_timestamp <= post.created_utc <= end_timestamp and post.id not in post_ids:\n",
    "                        post_ids.add(post.id)\n",
    "                        posts.append({\n",
    "                            'crypto': crypto_name,\n",
    "                            'search_term': search_term,\n",
    "                            'subreddit': subreddit_name,\n",
    "                            'post_id': post.id,\n",
    "                            'title': post.title,\n",
    "                            'author': str(post.author),\n",
    "                            'created_utc': datetime.utcfromtimestamp(post.created_utc).strftime('%Y-%m-%d %H:%M:%S'),\n",
    "                            'score': post.score,\n",
    "                            'num_comments': post.num_comments,\n",
    "                            'selftext': post.selftext\n",
    "                        })\n",
    "                        print(f\"Gefunden in r/{subreddit_name}: {post.title} (Suchbegriff: {search_term})\")\n",
    "\n",
    "                        # Kommentare sammeln\n",
    "                        post.comments.replace_more(limit=0)\n",
    "                        for comment in post.comments.list():\n",
    "                            comments.append({\n",
    "                                'post_id': post.id,\n",
    "                                'comment_id': comment.id,\n",
    "                                'author': str(comment.author),\n",
    "                                'created_utc': datetime.utcfromtimestamp(comment.created_utc).strftime('%Y-%m-%d %H:%M:%S'),\n",
    "                                'score': comment.score,\n",
    "                                'body': comment.body\n",
    "                            })\n",
    "\n",
    "    # In DataFrames umwandeln\n",
    "    df_posts = pd.DataFrame(posts)\n",
    "    df_comments = pd.DataFrame(comments)\n",
    "\n",
    "    # DataFrames zurückgeben\n",
    "    print(f\"Scrape abgeschlossen: {len(df_posts)} Posts und {len(df_comments)} Kommentare gefunden.\")\n",
    "    return df_posts, df_comments\n",
    "\n",
    "# **Wöchentlicher Scrape**\n",
    "now = int(datetime.now().timestamp())  # Aktueller Zeitstempel\n",
    "last_week = now - 7 * 24 * 60 * 60  # 7 Tage zurück\n",
    "print(\"Starte den wöchentlichen Scrape...\")\n",
    "df_posts_weekly, df_comments_weekly = scrape_reddit(last_week, now, mode=\"weekly\")\n",
    "\n",
    "# Beispiel: Lokale Weiterverarbeitung\n",
    "print(\"Daten können jetzt in der Pipeline bereinigt werden...\")"
   ]
  },
  {
   "cell_type": "markdown",
   "metadata": {},
   "source": [
    "## Datenbereinigung "
   ]
  },
  {
   "cell_type": "code",
   "execution_count": 12,
   "metadata": {},
   "outputs": [],
   "source": [
    "def clean_data(df_posts, df_comments):\n",
    "    # 1. Duplikate entfernen\n",
    "    df_posts = df_posts.drop_duplicates(subset=[\"post_id\"])\n",
    "    df_comments = df_comments.drop_duplicates(subset=[\"comment_id\"])\n",
    "    \n",
    "    # 2. Fehlende Werte behandeln\n",
    "    df_posts['selftext'] = df_posts['selftext'].fillna('')  # Fehlende Posttexte auffüllen\n",
    "    df_comments['body'] = df_comments['body'].fillna('')  # Fehlende Kommentare auffüllen\n",
    "    \n",
    "    # 3. Zeitstempel konvertieren\n",
    "    df_posts['created_utc'] = pd.to_datetime(df_posts['created_utc'])\n",
    "    df_comments['created_utc'] = pd.to_datetime(df_comments['created_utc'])\n",
    "    \n",
    "    # 4. Filterung nach Qualität (z. B. Spam entfernen)\n",
    "    df_posts = df_posts[df_posts['score'] > 0]  # Posts mit negativem Score entfernen\n",
    "    df_comments = df_comments[df_comments['score'] > 0]  # Kommentare mit negativem Score entfernen\n",
    "    \n",
    "    return df_posts, df_comments\n"
   ]
  },
  {
   "cell_type": "markdown",
   "metadata": {},
   "source": [
    "Funktion zur bereinigung auf die Daten anwenden"
   ]
  },
  {
   "cell_type": "code",
   "execution_count": 13,
   "metadata": {},
   "outputs": [
    {
     "name": "stdout",
     "output_type": "stream",
     "text": [
      "Bereinigte Posts: 99\n",
      "Bereinigte Kommentare: 5497\n"
     ]
    }
   ],
   "source": [
    "# Bereinigen der Daten\n",
    "df_posts_clean, df_comments_clean = clean_data(df_posts_weekly, df_comments_weekly)\n",
    "\n",
    "# Überprüfen, wie viele Einträge übrig sind\n",
    "print(f\"Bereinigte Posts: {len(df_posts_clean)}\")\n",
    "print(f\"Bereinigte Kommentare: {len(df_comments_clean)}\")"
   ]
  },
  {
   "cell_type": "markdown",
   "metadata": {},
   "source": [
    "## Google Drive Export"
   ]
  },
  {
   "cell_type": "markdown",
   "metadata": {},
   "source": [
    "Pfad"
   ]
  },
  {
   "cell_type": "code",
   "execution_count": 14,
   "metadata": {},
   "outputs": [],
   "source": [
    "# Definiere den Speicherpfad zu deinem lokalen Google Drive\n",
    "DRIVE_PATH = \"G:/Meine Ablage/\"\n"
   ]
  },
  {
   "cell_type": "markdown",
   "metadata": {},
   "source": [
    "Export Funktion"
   ]
  },
  {
   "cell_type": "code",
   "execution_count": 15,
   "metadata": {},
   "outputs": [],
   "source": [
    "def append_to_csv(df_new, filename):\n",
    "    file_path = os.path.join(DRIVE_PATH, filename)\n",
    "\n",
    "    try:\n",
    "        # Falls die Datei bereits existiert, lese sie ein und hänge die neuen Daten an\n",
    "        if os.path.exists(file_path):\n",
    "            df_existing = pd.read_csv(file_path, sep=\";\", encoding=\"utf-8-sig\", on_bad_lines=\"skip\")\n",
    "            df_combined = pd.concat([df_existing, df_new], ignore_index=True)\n",
    "        else:\n",
    "            df_combined = df_new  # Falls die Datei nicht existiert, erstelle sie neu\n",
    "\n",
    "        # CSV speichern mit besserer Formatierung für Excel\n",
    "        df_combined.to_csv(\n",
    "            file_path,\n",
    "            index=False,\n",
    "            sep=\";\",  # Semikolon als Trennzeichen für bessere Excel-Kompatibilität\n",
    "            encoding=\"utf-8-sig\",  # Richtige Zeichenkodierung für Excel\n",
    "            lineterminator=\"\\n\"  # Zeilenumbrüche korrekt speichern\n",
    "        )\n",
    "        print(f\"Datei erfolgreich aktualisiert: {file_path}\")\n",
    "\n",
    "    except Exception as e:\n",
    "        print(f\"Fehler beim Speichern der Datei {filename}: {e}\")\n",
    "\n",
    "def export_to_drive(df_posts, df_comments):\n",
    "    try:\n",
    "        # Posts an bestehende Datei anhängen\n",
    "        append_to_csv(df_posts, \"reddit_posts.csv\")\n",
    "        # Kommentare an bestehende Datei anhängen\n",
    "        append_to_csv(df_comments, \"reddit_comments.csv\")\n",
    "\n",
    "    except Exception as e:\n",
    "        print(f\"Fehler beim Export: {e}\")\n"
   ]
  },
  {
   "cell_type": "markdown",
   "metadata": {},
   "source": [
    "Export Funnktion anwenden"
   ]
  },
  {
   "cell_type": "code",
   "execution_count": 16,
   "metadata": {},
   "outputs": [
    {
     "name": "stdout",
     "output_type": "stream",
     "text": [
      "Datei erfolgreich aktualisiert: G:/Meine Ablage/reddit_posts.csv\n",
      "Datei erfolgreich aktualisiert: G:/Meine Ablage/reddit_comments.csv\n"
     ]
    }
   ],
   "source": [
    "# Export der bereinigten Daten\n",
    "export_to_drive(df_posts_clean, df_comments_clean)"
   ]
  },
  {
   "cell_type": "code",
   "execution_count": null,
   "metadata": {},
   "outputs": [],
   "source": []
  }
 ],
 "metadata": {
  "kernelspec": {
   "display_name": "dennis",
   "language": "python",
   "name": "python3"
  },
  "language_info": {
   "codemirror_mode": {
    "name": "ipython",
    "version": 3
   },
   "file_extension": ".py",
   "mimetype": "text/x-python",
   "name": "python",
   "nbconvert_exporter": "python",
   "pygments_lexer": "ipython3",
   "version": "3.10.16"
  }
 },
 "nbformat": 4,
 "nbformat_minor": 2
}
